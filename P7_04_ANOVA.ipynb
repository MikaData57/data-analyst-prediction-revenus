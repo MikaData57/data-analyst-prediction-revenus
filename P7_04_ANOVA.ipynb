{
 "cells": [
  {
   "cell_type": "markdown",
   "metadata": {},
   "source": [
    "![Intro](assets/intro.jpg)"
   ]
  },
  {
   "cell_type": "markdown",
   "metadata": {},
   "source": [
    "# <span style=\"color:#ca9928\">Introduction</span>\n",
    "\n",
    "Pour cette mission 4, nous chercherons à expliquer le revenu des individus en fonction de plusieurs variables explicatives : le **pays de l'individu**, l'**indice de Gini** de ce pays, la **classe de revenus des parents**, etc.\n",
    "\n",
    "Il s'agit donc d'**étudier l'impact d'une variable qualitative sur une variable quantitative**. Pour cela, nous allons devoir réaliser plusieurs ANOVA *(Analyse de variance)*.\n",
    "\n",
    "Par exemple, la première question à se poser est :\n",
    ">*Le pays a t'il un impact sur le revenu moyen de chaque classe ?*\n",
    "\n",
    "Le modèle considéré ici s'écrit sous la forme suivante : $y_{i,j} = \\mu + \\alpha_i + \\varepsilon_{i,j}$\n",
    "\n",
    "pour $i \\in \\{1,...,116\\}$ et $j \\in \\{1,...,n_i\\}$\n",
    "\n",
    "Dans ce modèle :\n",
    "- $y_{ij}$ est le revenu $j$ avec la classe de revenu $i$ ;\n",
    "- $\\mu$ est le revenu moyen du pays;\n",
    "- $\\alpha_i$ ne dépend que de la classe de revenu.\n",
    "\n",
    "On suppose ici que les classes de revenus sont homogènes et indépendantes, et que le revenu moyen des classes $i$ suit une loi normale de moyenne $\\mu + \\alpha_i$ et de variance $\\sigma^2$ *(variance identique pour toutes les classes de revenu)*.\n",
    "\n",
    "# <font color=\"#ca9928\">Sommaire</font>\n",
    "\n",
    "1. [ANOVA sur les données en n’incluant comme variable explicative que le pays de l’individu](#anova1)   \n",
    "2. [Régression linéaire sur les données en n’incluant comme variables explicatives uniquement le revenu moyen du pays de l’individu et l’indice de Gini du pays de l’individu](#anova2)    \n",
    "    1. [Pourcentage de variance expliquée par ce modèle](#tab_anova2)\n",
    "    2. [Avec les données logaritmes](#anova2_ln)    \n",
    "3. [Amélioration du dernier modèle avec la classe de revenus des parents](#anova3)\n",
    "    1. [Pourcentage de variance expliquée par ce modèle](#tab_anova3)\n",
    "    2. [Calcul des leviers](#leviers)\n",
    "    3. [Les résidus studentisés](#student)    \n",
    "    4. [Distances de Cook](#cook)   \n",
    "    5. [Vérification de la colinéarité des variables](#colin)     \n",
    "    6. [Test de l’homoscédasticité](#homosc)     \n",
    "    7. [Test de la normalité des résidus](#resnorm)    \n",
    "4. [Réponse à la dernière question sur l'indice de Gini](#gini_quest)"
   ]
  },
  {
   "cell_type": "code",
   "execution_count": 1,
   "metadata": {},
   "outputs": [],
   "source": [
    "import pandas as pd\n",
    "import numpy as np\n",
    "import matplotlib.pyplot as plt\n",
    "import seaborn as sns\n",
    "import statsmodels.api as sm\n",
    "import statsmodels.stats.api as sms\n",
    "from statsmodels.formula.api import ols\n",
    "import scipy.stats as stats\n",
    "\n",
    "plt.style.use('seaborn-whitegrid')"
   ]
  },
  {
   "cell_type": "code",
   "execution_count": 2,
   "metadata": {},
   "outputs": [
    {
     "data": {
      "text/html": [
       "<div>\n",
       "<style scoped>\n",
       "    .dataframe tbody tr th:only-of-type {\n",
       "        vertical-align: middle;\n",
       "    }\n",
       "\n",
       "    .dataframe tbody tr th {\n",
       "        vertical-align: top;\n",
       "    }\n",
       "\n",
       "    .dataframe thead th {\n",
       "        text-align: right;\n",
       "    }\n",
       "</style>\n",
       "<table border=\"1\" class=\"dataframe\">\n",
       "  <thead>\n",
       "    <tr style=\"text-align: right;\">\n",
       "      <th></th>\n",
       "      <th>country_code</th>\n",
       "      <th>c_i_child</th>\n",
       "      <th>G_j</th>\n",
       "      <th>income</th>\n",
       "      <th>gdpppp</th>\n",
       "      <th>m_j</th>\n",
       "      <th>p_j</th>\n",
       "      <th>c_i_parents</th>\n",
       "    </tr>\n",
       "  </thead>\n",
       "  <tbody>\n",
       "    <tr>\n",
       "      <th>0</th>\n",
       "      <td>ALB</td>\n",
       "      <td>1</td>\n",
       "      <td>30.0</td>\n",
       "      <td>728.89795</td>\n",
       "      <td>7297.0</td>\n",
       "      <td>2994.829902</td>\n",
       "      <td>0.82</td>\n",
       "      <td>1.0</td>\n",
       "    </tr>\n",
       "    <tr>\n",
       "      <th>1</th>\n",
       "      <td>ALB</td>\n",
       "      <td>1</td>\n",
       "      <td>30.0</td>\n",
       "      <td>728.89795</td>\n",
       "      <td>7297.0</td>\n",
       "      <td>2994.829902</td>\n",
       "      <td>0.82</td>\n",
       "      <td>1.0</td>\n",
       "    </tr>\n",
       "    <tr>\n",
       "      <th>2</th>\n",
       "      <td>ALB</td>\n",
       "      <td>1</td>\n",
       "      <td>30.0</td>\n",
       "      <td>728.89795</td>\n",
       "      <td>7297.0</td>\n",
       "      <td>2994.829902</td>\n",
       "      <td>0.82</td>\n",
       "      <td>1.0</td>\n",
       "    </tr>\n",
       "    <tr>\n",
       "      <th>3</th>\n",
       "      <td>ALB</td>\n",
       "      <td>1</td>\n",
       "      <td>30.0</td>\n",
       "      <td>728.89795</td>\n",
       "      <td>7297.0</td>\n",
       "      <td>2994.829902</td>\n",
       "      <td>0.82</td>\n",
       "      <td>1.0</td>\n",
       "    </tr>\n",
       "    <tr>\n",
       "      <th>4</th>\n",
       "      <td>ALB</td>\n",
       "      <td>1</td>\n",
       "      <td>30.0</td>\n",
       "      <td>728.89795</td>\n",
       "      <td>7297.0</td>\n",
       "      <td>2994.829902</td>\n",
       "      <td>0.82</td>\n",
       "      <td>1.0</td>\n",
       "    </tr>\n",
       "  </tbody>\n",
       "</table>\n",
       "</div>"
      ],
      "text/plain": [
       "  country_code  c_i_child   G_j     income  gdpppp          m_j   p_j  \\\n",
       "0          ALB          1  30.0  728.89795  7297.0  2994.829902  0.82   \n",
       "1          ALB          1  30.0  728.89795  7297.0  2994.829902  0.82   \n",
       "2          ALB          1  30.0  728.89795  7297.0  2994.829902  0.82   \n",
       "3          ALB          1  30.0  728.89795  7297.0  2994.829902  0.82   \n",
       "4          ALB          1  30.0  728.89795  7297.0  2994.829902  0.82   \n",
       "\n",
       "   c_i_parents  \n",
       "0          1.0  \n",
       "1          1.0  \n",
       "2          1.0  \n",
       "3          1.0  \n",
       "4          1.0  "
      ]
     },
     "execution_count": 2,
     "metadata": {},
     "output_type": "execute_result"
    }
   ],
   "source": [
    "#import des données :\n",
    "dataset = pd.read_csv(\"datas/df_wid500_cd.csv\", sep=\",\", decimal=\".\", header=0)\n",
    "dataset.head()"
   ]
  },
  {
   "cell_type": "code",
   "execution_count": 3,
   "metadata": {},
   "outputs": [
    {
     "data": {
      "text/plain": [
       "(5800000, 8)"
      ]
     },
     "execution_count": 3,
     "metadata": {},
     "output_type": "execute_result"
    }
   ],
   "source": [
    "dataset.shape"
   ]
  },
  {
   "cell_type": "markdown",
   "metadata": {},
   "source": [
    "# <span style=\"color:#ca9928\" id=\"anova1\">ANOVA sur les données en n’incluant comme variable explicative que le pays de l’individu</span>\n",
    "\n",
    "Nous allons réaliser cette ANOVA avec la librairie Statsmodels et la méthode des moindres carrés pour la régression linéaire. Les régressions seront réalisées à la fois avec les données de revenus et de classes brutes mais également avec leurs logarithmes.\n",
    "\n",
    "Regardons dans un premier temps les boxplots de l'income sur les 10 pays sélectionnés en mission 2."
   ]
  },
  {
   "cell_type": "code",
   "execution_count": 3,
   "metadata": {},
   "outputs": [
    {
     "data": {
      "image/png": "[encoded data removed]",
      "text/plain": [
       "<Figure size 864x576 with 1 Axes>"
      ]
     },
     "metadata": {},
     "output_type": "display_data"
    }
   ],
   "source": [
    "liste_pays_finale = [\"BRA\",\"IDN\",\"LUX\",\"NOR\",\"SVK\",\"ZAF\",\"CHN\",\"USA\",\"FRA\"]\n",
    "fig = plt.figure(figsize=(12,8),constrained_layout=False)\n",
    "ax = sns.boxplot(x=\"country_code\", y=\"income\", data=dataset[dataset[\"country_code\"].isin(liste_pays_finale)], palette=\"Set2\")\n",
    "ax.set_title(\"Distribution de Income par Pays\",fontsize=20)\n",
    "plt.show()"
   ]
  },
  {
   "cell_type": "markdown",
   "metadata": {},
   "source": [
    "On constate ici que les données analysées ne semblent pas être de variance égales."
   ]
  },
  {
   "cell_type": "code",
   "execution_count": 5,
   "metadata": {},
   "outputs": [
    {
     "name": "stdout",
     "output_type": "stream",
     "text": [
      "                            OLS Regression Results                            \n",
      "==============================================================================\n",
      "Dep. Variable:                 income   R-squared:                       0.496\n",
      "Model:                            OLS   Adj. R-squared:                  0.496\n",
      "Method:                 Least Squares   F-statistic:                 4.971e+04\n",
      "Date:                Mon, 19 Oct 2020   Prob (F-statistic):               0.00\n",
      "Time:                        14:24:14   Log-Likelihood:            -5.9310e+07\n",
      "No. Observations:             5800000   AIC:                         1.186e+08\n",
      "Df Residuals:                 5799884   BIC:                         1.186e+08\n",
      "Df Model:                         115                                         \n",
      "Covariance Type:            nonrobust                                         \n",
      "=======================================================================================\n",
      "                          coef    std err          t      P>|t|      [0.025      0.975]\n",
      "---------------------------------------------------------------------------------------\n",
      "Intercept            2994.8299     29.875    100.244      0.000    2936.275    3053.384\n",
      "country_code[T.ARG]  2853.0548     42.250     67.528      0.000    2770.246    2935.863\n",
      "country_code[T.ARM] -1366.4471     42.250    -32.342      0.000   -1449.256   -1283.639\n",
      "country_code[T.AUT]  1.364e+04     42.250    322.906      0.000    1.36e+04    1.37e+04\n",
      "country_code[T.AZE]  -637.4009     42.250    -15.086      0.000    -720.209    -554.592\n",
      "country_code[T.BEL]  1.203e+04     42.250    284.728      0.000    1.19e+04    1.21e+04\n",
      "country_code[T.BFA] -2076.8772     42.250    -49.157      0.000   -2159.686   -1994.069\n",
      "country_code[T.BGD] -1996.1375     42.250    -47.246      0.000   -2078.946   -1913.329\n",
      "country_code[T.BGR]  1990.1487     42.250     47.104      0.000    1907.340    2072.957\n",
      "country_code[T.BIH]  3339.8574     42.250     79.050      0.000    3257.049    3422.666\n",
      "country_code[T.BLR]   926.3336     42.250     21.925      0.000     843.525    1009.142\n",
      "country_code[T.BOL]    21.4339     42.250      0.507      0.612     -61.375     104.243\n",
      "country_code[T.BRA]  1812.6547     42.250     42.903      0.000    1729.846    1895.463\n",
      "country_code[T.BTN] -1478.9008     42.250    -35.004      0.000   -1561.709   -1396.092\n",
      "country_code[T.CAF] -2183.5300     42.250    -51.681      0.000   -2266.339   -2100.721\n",
      "country_code[T.CAN]  2.074e+04     42.250    491.001      0.000    2.07e+04    2.08e+04\n",
      "country_code[T.CHL]  4056.7801     42.250     96.018      0.000    3973.971    4139.589\n",
      "country_code[T.CHN]  -472.0712     42.250    -11.173      0.000    -554.880    -389.263\n",
      "country_code[T.CIV] -2594.9947     42.250    -61.420      0.000   -2677.803   -2512.186\n",
      "country_code[T.CMR] -1200.3359     42.250    -28.410      0.000   -1283.145   -1117.527\n",
      "country_code[T.COD] -2718.8139     42.250    -64.351      0.000   -2801.622   -2636.005\n",
      "country_code[T.COL]   552.1754     42.250     13.069      0.000     469.367     634.984\n",
      "country_code[T.CRI]  2585.5567     42.250     61.197      0.000    2502.748    2668.365\n",
      "country_code[T.CYP]  1.435e+04     42.250    339.658      0.000    1.43e+04    1.44e+04\n",
      "country_code[T.CZE]  5240.4635     42.250    124.035      0.000    5157.655    5323.272\n",
      "country_code[T.DEU]  1.507e+04     42.250    356.612      0.000     1.5e+04    1.51e+04\n",
      "country_code[T.DNK]  1.405e+04     42.250    332.504      0.000     1.4e+04    1.41e+04\n",
      "country_code[T.DOM]   563.5722     42.250     13.339      0.000     480.764     646.381\n",
      "country_code[T.ECU]   388.9111     42.250      9.205      0.000     306.103     471.720\n",
      "country_code[T.EGY] -1025.2525     42.250    -24.266      0.000   -1108.061    -942.444\n",
      "country_code[T.ESP]  1.012e+04     42.250    239.578      0.000       1e+04    1.02e+04\n",
      "country_code[T.EST]  4707.2327     42.250    111.414      0.000    4624.424    4790.041\n",
      "country_code[T.FIN]  1.331e+04     42.250    315.065      0.000    1.32e+04    1.34e+04\n",
      "country_code[T.FJI]  -896.0990     42.250    -21.209      0.000    -978.908    -813.290\n",
      "country_code[T.FRA]  1.531e+04     42.250    362.475      0.000    1.52e+04    1.54e+04\n",
      "country_code[T.GBR]  1.871e+04     42.250    442.953      0.000    1.86e+04    1.88e+04\n",
      "country_code[T.GEO] -1631.0713     42.250    -38.605      0.000   -1713.880   -1548.263\n",
      "country_code[T.GHA] -2258.2274     42.250    -53.449      0.000   -2341.036   -2175.419\n",
      "country_code[T.GIN] -2298.8179     42.250    -54.410      0.000   -2381.626   -2216.009\n",
      "country_code[T.GRC]  8732.4444     42.250    206.685      0.000    8649.636    8815.253\n",
      "country_code[T.GTM]  -852.3551     42.250    -20.174      0.000    -935.164    -769.547\n",
      "country_code[T.HND]   301.4385     42.250      7.135      0.000     218.630     384.247\n",
      "country_code[T.HRV]  4721.6359     42.250    111.755      0.000    4638.827    4804.444\n",
      "country_code[T.HUN]  3106.5113     42.250     73.527      0.000    3023.703    3189.320\n",
      "country_code[T.IDN] -1660.2116     42.250    -39.295      0.000   -1743.020   -1577.403\n",
      "country_code[T.IND] -2070.5604     42.250    -49.007      0.000   -2153.369   -1987.752\n",
      "country_code[T.IRL]  1.472e+04     42.250    348.305      0.000    1.46e+04    1.48e+04\n",
      "country_code[T.IRN]  2837.8256     42.250     67.167      0.000    2755.017    2920.634\n",
      "country_code[T.IRQ] -1289.3176     42.250    -30.516      0.000   -1372.126   -1206.509\n",
      "country_code[T.ISL]  2.389e+04     42.250    565.530      0.000    2.38e+04     2.4e+04\n",
      "country_code[T.ISR]  8105.4882     42.250    191.846      0.000    8022.680    8188.297\n",
      "country_code[T.ITA]  1.193e+04     42.250    282.376      0.000    1.18e+04     1.2e+04\n",
      "country_code[T.JOR]    53.8011     42.250      1.273      0.203     -29.007     136.610\n",
      "country_code[T.JPN]  1.444e+04     42.250    341.731      0.000    1.44e+04    1.45e+04\n",
      "country_code[T.KAZ]  -755.6801     42.250    -17.886      0.000    -838.489    -672.872\n",
      "country_code[T.KEN] -2475.5099     42.250    -58.592      0.000   -2558.318   -2392.701\n",
      "country_code[T.KGZ] -1221.6107     42.250    -28.914      0.000   -1304.419   -1138.802\n",
      "country_code[T.KHM] -1508.4897     42.250    -35.704      0.000   -1591.298   -1425.681\n",
      "country_code[T.KOR]  1.223e+04     42.250    289.532      0.000    1.21e+04    1.23e+04\n",
      "country_code[T.LAO] -1991.4225     42.250    -47.134      0.000   -2074.231   -1908.614\n",
      "country_code[T.LBR] -2379.8226     42.250    -56.327      0.000   -2462.631   -2297.014\n",
      "country_code[T.LKA] -1116.8897     42.250    -26.435      0.000   -1199.698   -1034.081\n",
      "country_code[T.LTU]  3628.7053     42.250     85.886      0.000    3545.897    3711.514\n",
      "country_code[T.LUX]  2.222e+04     42.250    525.981      0.000    2.21e+04    2.23e+04\n",
      "country_code[T.LVA]  3769.6447     42.250     89.222      0.000    3686.836    3852.453\n",
      "country_code[T.MAR]  -657.2293     42.250    -15.556      0.000    -740.038    -574.421\n",
      "country_code[T.MDA]  -845.6585     42.250    -20.016      0.000    -928.467    -762.850\n",
      "country_code[T.MDG] -2649.5928     42.250    -62.712      0.000   -2732.401   -2566.784\n",
      "country_code[T.MEX]   891.0004     42.250     21.089      0.000     808.192     973.809\n",
      "country_code[T.MKD]  1604.5664     42.250     37.978      0.000    1521.758    1687.375\n",
      "country_code[T.MLI] -2313.7549     42.250    -54.763      0.000   -2396.563   -2230.946\n",
      "country_code[T.MNE]  3553.0692     42.250     84.096      0.000    3470.261    3635.878\n",
      "country_code[T.MNG]  -656.7425     42.250    -15.544      0.000    -739.551    -573.934\n",
      "country_code[T.MOZ] -2302.3494     42.250    -54.493      0.000   -2385.158   -2219.541\n",
      "country_code[T.MRT] -1196.2208     42.250    -28.313      0.000   -1279.029   -1113.412\n",
      "country_code[T.MWI] -2080.5645     42.250    -49.244      0.000   -2163.373   -1997.756\n",
      "country_code[T.MYS]  3011.5125     42.250     71.278      0.000    2928.704    3094.321\n",
      "country_code[T.NER] -2344.7005     42.250    -55.496      0.000   -2427.509   -2261.892\n",
      "country_code[T.NGA] -2302.9745     42.250    -54.508      0.000   -2385.783   -2220.166\n",
      "country_code[T.NIC]  -475.4966     42.250    -11.254      0.000    -558.305    -392.688\n",
      "country_code[T.NLD]  1.473e+04     42.250    348.729      0.000    1.47e+04    1.48e+04\n",
      "country_code[T.NOR]  1.949e+04     42.250    461.267      0.000    1.94e+04    1.96e+04\n",
      "country_code[T.NPL] -2080.4383     42.250    -49.241      0.000   -2163.247   -1997.630\n",
      "country_code[T.PAK] -2106.9906     42.250    -49.870      0.000   -2189.799   -2024.182\n",
      "country_code[T.PAN]  2140.3095     42.250     50.658      0.000    2057.501    2223.118\n",
      "country_code[T.PER]   335.7034     42.250      7.946      0.000     252.895     418.512\n",
      "country_code[T.PHL] -1520.7670     42.250    -35.994      0.000   -1603.576   -1437.958\n",
      "country_code[T.POL]  2746.8903     42.250     65.015      0.000    2664.082    2829.699\n",
      "country_code[T.PRT]  7103.8455     42.250    168.138      0.000    7021.037    7186.654\n",
      "country_code[T.PRY]   283.2511     42.250      6.704      0.000     200.442     366.060\n",
      "country_code[T.PSE] -1880.7314     42.250    -44.514      0.000   -1963.540   -1797.923\n",
      "country_code[T.ROU]   323.5073     42.250      7.657      0.000     240.699     406.316\n",
      "country_code[T.RUS]  4161.9408     42.250     98.507      0.000    4079.132    4244.749\n",
      "country_code[T.SDN] -1909.4828     42.250    -45.195      0.000   -1992.291   -1826.674\n",
      "country_code[T.SLV]  -139.6051     42.250     -3.304      0.001    -222.414     -56.797\n",
      "country_code[T.SRB]  1884.9209     42.250     44.613      0.000    1802.112    1967.730\n",
      "country_code[T.SVK]  3101.7500     42.250     73.414      0.000    3018.941    3184.559\n",
      "country_code[T.SVN]  9111.1776     42.250    215.649      0.000    9028.369    9193.986\n",
      "country_code[T.SWE]  1.319e+04     42.250    312.175      0.000    1.31e+04    1.33e+04\n",
      "country_code[T.SWZ] -2464.5461     42.250    -58.332      0.000   -2547.355   -2381.738\n",
      "country_code[T.SYR] -2309.0124     42.250    -54.651      0.000   -2391.821   -2226.204\n",
      "country_code[T.THA]  -251.1173     42.250     -5.944      0.000    -333.926    -168.309\n",
      "country_code[T.TJK]  -924.9777     42.250    -21.893      0.000   -1007.786    -842.169\n",
      "country_code[T.TLS] -2267.2195     42.250    -53.662      0.000   -2350.028   -2184.411\n",
      "country_code[T.TUR]  3055.6354     42.250     72.323      0.000    2972.827    3138.444\n",
      "country_code[T.TWN]  1.351e+04     42.250    319.654      0.000    1.34e+04    1.36e+04\n",
      "country_code[T.TZA] -2406.0629     42.250    -56.948      0.000   -2488.871   -2323.254\n",
      "country_code[T.UGA] -2007.6236     42.250    -47.518      0.000   -2090.432   -1924.815\n",
      "country_code[T.UKR]   354.5584     42.250      8.392      0.000     271.750     437.367\n",
      "country_code[T.URY]  2295.9550     42.250     54.342      0.000    2213.146    2378.764\n",
      "country_code[T.USA]  2.251e+04     42.250    532.751      0.000    2.24e+04    2.26e+04\n",
      "country_code[T.VEN]   172.3178     42.250      4.079      0.000      89.509     255.126\n",
      "country_code[T.VNM] -1617.0559     42.250    -38.273      0.000   -1699.865   -1534.247\n",
      "country_code[T.XKX]  -818.5609     42.250    -19.374      0.000    -901.369    -735.752\n",
      "country_code[T.YEM] -1952.1940     42.250    -46.206      0.000   -2035.003   -1869.385\n",
      "country_code[T.ZAF]  2623.0750     42.250     62.085      0.000    2540.266    2705.884\n",
      "==============================================================================\n",
      "Omnibus:                  7299082.879   Durbin-Watson:                   0.001\n",
      "Prob(Omnibus):                  0.000   Jarque-Bera (JB):       2103715103.572\n",
      "Skew:                           6.739   Prob(JB):                         0.00\n",
      "Kurtosis:                      95.322   Cond. No.                         117.\n",
      "==============================================================================\n",
      "\n",
      "Warnings:\n",
      "[1] Standard Errors assume that the covariance matrix of the errors is correctly specified.\n"
     ]
    }
   ],
   "source": [
    "model = ols('income ~ country_code', data=dataset).fit()\n",
    "print(model.summary())"
   ]
  },
  {
   "cell_type": "markdown",
   "metadata": {},
   "source": [
    "On remarque donc qu'il existe, selon le **test de Fischer**, un impact statistiquement significatif du pays sur le revenu moyen du pays $F = 4.97*10^{4}$ et $Pvalue = 0$. Le $R^2$ *(la part de variance expliquée par le modèle de régression)* est ici de 0.496"
   ]
  },
  {
   "cell_type": "code",
   "execution_count": 32,
   "metadata": {},
   "outputs": [],
   "source": [
    "#Ajout des colonnes de log\n",
    "dataset[\"ln_income\"] = np.log(dataset[\"income\"])\n",
    "dataset[\"ln_c_i_parents\"] = np.log(dataset[\"c_i_parents\"])\n",
    "dataset[\"ln_c_i_child\"] = np.log(dataset[\"c_i_child\"])\n",
    "dataset[\"ln_m_j\"] = np.log(dataset[\"m_j\"])"
   ]
  },
  {
   "cell_type": "code",
   "execution_count": 5,
   "metadata": {},
   "outputs": [
    {
     "data": {
      "text/html": [
       "<div>\n",
       "<style scoped>\n",
       "    .dataframe tbody tr th:only-of-type {\n",
       "        vertical-align: middle;\n",
       "    }\n",
       "\n",
       "    .dataframe tbody tr th {\n",
       "        vertical-align: top;\n",
       "    }\n",
       "\n",
       "    .dataframe thead th {\n",
       "        text-align: right;\n",
       "    }\n",
       "</style>\n",
       "<table border=\"1\" class=\"dataframe\">\n",
       "  <thead>\n",
       "    <tr style=\"text-align: right;\">\n",
       "      <th></th>\n",
       "      <th>country_code</th>\n",
       "      <th>c_i_child</th>\n",
       "      <th>G_j</th>\n",
       "      <th>income</th>\n",
       "      <th>gdpppp</th>\n",
       "      <th>m_j</th>\n",
       "      <th>p_j</th>\n",
       "      <th>c_i_parents</th>\n",
       "      <th>ln_income</th>\n",
       "      <th>ln_c_i_parents</th>\n",
       "      <th>ln_c_i_child</th>\n",
       "    </tr>\n",
       "  </thead>\n",
       "  <tbody>\n",
       "    <tr>\n",
       "      <th>5641424</th>\n",
       "      <td>VNM</td>\n",
       "      <td>83</td>\n",
       "      <td>35.80</td>\n",
       "      <td>1958.56430</td>\n",
       "      <td>2578.0</td>\n",
       "      <td>1377.773966</td>\n",
       "      <td>0.48</td>\n",
       "      <td>92.0</td>\n",
       "      <td>7.579967</td>\n",
       "      <td>4.521789</td>\n",
       "      <td>4.418841</td>\n",
       "    </tr>\n",
       "    <tr>\n",
       "      <th>2208558</th>\n",
       "      <td>IDN</td>\n",
       "      <td>18</td>\n",
       "      <td>36.70</td>\n",
       "      <td>617.11774</td>\n",
       "      <td>3689.0</td>\n",
       "      <td>1334.618297</td>\n",
       "      <td>0.50</td>\n",
       "      <td>8.0</td>\n",
       "      <td>6.425060</td>\n",
       "      <td>2.079442</td>\n",
       "      <td>2.890372</td>\n",
       "    </tr>\n",
       "    <tr>\n",
       "      <th>1675910</th>\n",
       "      <td>FJI</td>\n",
       "      <td>52</td>\n",
       "      <td>40.40</td>\n",
       "      <td>1482.86770</td>\n",
       "      <td>4300332.0</td>\n",
       "      <td>2098.730882</td>\n",
       "      <td>0.50</td>\n",
       "      <td>83.0</td>\n",
       "      <td>7.301733</td>\n",
       "      <td>4.418841</td>\n",
       "      <td>3.951244</td>\n",
       "    </tr>\n",
       "    <tr>\n",
       "      <th>4623126</th>\n",
       "      <td>RUS</td>\n",
       "      <td>47</td>\n",
       "      <td>41.60</td>\n",
       "      <td>4789.84960</td>\n",
       "      <td>14766.0</td>\n",
       "      <td>7156.770709</td>\n",
       "      <td>0.33</td>\n",
       "      <td>30.0</td>\n",
       "      <td>8.474254</td>\n",
       "      <td>3.401197</td>\n",
       "      <td>3.850148</td>\n",
       "    </tr>\n",
       "    <tr>\n",
       "      <th>1439824</th>\n",
       "      <td>ECU</td>\n",
       "      <td>80</td>\n",
       "      <td>49.70</td>\n",
       "      <td>4349.19800</td>\n",
       "      <td>7560.0</td>\n",
       "      <td>3383.741001</td>\n",
       "      <td>1.03</td>\n",
       "      <td>82.0</td>\n",
       "      <td>8.377747</td>\n",
       "      <td>4.406719</td>\n",
       "      <td>4.382027</td>\n",
       "    </tr>\n",
       "    <tr>\n",
       "      <th>5201294</th>\n",
       "      <td>TUR</td>\n",
       "      <td>3</td>\n",
       "      <td>39.00</td>\n",
       "      <td>825.75214</td>\n",
       "      <td>11904.0</td>\n",
       "      <td>6050.465331</td>\n",
       "      <td>0.40</td>\n",
       "      <td>33.0</td>\n",
       "      <td>6.716295</td>\n",
       "      <td>3.496508</td>\n",
       "      <td>1.098612</td>\n",
       "    </tr>\n",
       "    <tr>\n",
       "      <th>2745822</th>\n",
       "      <td>KAZ</td>\n",
       "      <td>92</td>\n",
       "      <td>28.50</td>\n",
       "      <td>3828.22100</td>\n",
       "      <td>10469.0</td>\n",
       "      <td>2239.149800</td>\n",
       "      <td>0.24</td>\n",
       "      <td>74.0</td>\n",
       "      <td>8.250155</td>\n",
       "      <td>4.304065</td>\n",
       "      <td>4.521789</td>\n",
       "    </tr>\n",
       "    <tr>\n",
       "      <th>4769301</th>\n",
       "      <td>SRB</td>\n",
       "      <td>39</td>\n",
       "      <td>27.52</td>\n",
       "      <td>3727.29960</td>\n",
       "      <td>10234.0</td>\n",
       "      <td>4879.750852</td>\n",
       "      <td>0.40</td>\n",
       "      <td>57.0</td>\n",
       "      <td>8.223439</td>\n",
       "      <td>4.043051</td>\n",
       "      <td>3.663562</td>\n",
       "    </tr>\n",
       "    <tr>\n",
       "      <th>5439135</th>\n",
       "      <td>UKR</td>\n",
       "      <td>79</td>\n",
       "      <td>26.60</td>\n",
       "      <td>4252.23730</td>\n",
       "      <td>6721.0</td>\n",
       "      <td>3349.388306</td>\n",
       "      <td>0.40</td>\n",
       "      <td>42.0</td>\n",
       "      <td>8.355201</td>\n",
       "      <td>3.737670</td>\n",
       "      <td>4.369448</td>\n",
       "    </tr>\n",
       "    <tr>\n",
       "      <th>3895787</th>\n",
       "      <td>NER</td>\n",
       "      <td>92</td>\n",
       "      <td>37.30</td>\n",
       "      <td>1215.81580</td>\n",
       "      <td>631.0</td>\n",
       "      <td>650.129353</td>\n",
       "      <td>0.66</td>\n",
       "      <td>83.0</td>\n",
       "      <td>7.103171</td>\n",
       "      <td>4.418841</td>\n",
       "      <td>4.521789</td>\n",
       "    </tr>\n",
       "  </tbody>\n",
       "</table>\n",
       "</div>"
      ],
      "text/plain": [
       "        country_code  c_i_child    G_j      income     gdpppp          m_j  \\\n",
       "5641424          VNM         83  35.80  1958.56430     2578.0  1377.773966   \n",
       "2208558          IDN         18  36.70   617.11774     3689.0  1334.618297   \n",
       "1675910          FJI         52  40.40  1482.86770  4300332.0  2098.730882   \n",
       "4623126          RUS         47  41.60  4789.84960    14766.0  7156.770709   \n",
       "1439824          ECU         80  49.70  4349.19800     7560.0  3383.741001   \n",
       "5201294          TUR          3  39.00   825.75214    11904.0  6050.465331   \n",
       "2745822          KAZ         92  28.50  3828.22100    10469.0  2239.149800   \n",
       "4769301          SRB         39  27.52  3727.29960    10234.0  4879.750852   \n",
       "5439135          UKR         79  26.60  4252.23730     6721.0  3349.388306   \n",
       "3895787          NER         92  37.30  1215.81580      631.0   650.129353   \n",
       "\n",
       "          p_j  c_i_parents  ln_income  ln_c_i_parents  ln_c_i_child  \n",
       "5641424  0.48         92.0   7.579967        4.521789      4.418841  \n",
       "2208558  0.50          8.0   6.425060        2.079442      2.890372  \n",
       "1675910  0.50         83.0   7.301733        4.418841      3.951244  \n",
       "4623126  0.33         30.0   8.474254        3.401197      3.850148  \n",
       "1439824  1.03         82.0   8.377747        4.406719      4.382027  \n",
       "5201294  0.40         33.0   6.716295        3.496508      1.098612  \n",
       "2745822  0.24         74.0   8.250155        4.304065      4.521789  \n",
       "4769301  0.40         57.0   8.223439        4.043051      3.663562  \n",
       "5439135  0.40         42.0   8.355201        3.737670      4.369448  \n",
       "3895787  0.66         83.0   7.103171        4.418841      4.521789  "
      ]
     },
     "execution_count": 5,
     "metadata": {},
     "output_type": "execute_result"
    }
   ],
   "source": [
    "dataset.sample(10)"
   ]
  },
  {
   "cell_type": "code",
   "execution_count": 6,
   "metadata": {},
   "outputs": [
    {
     "data": {
      "image/png": "[encoded data removed]",
      "text/plain": [
       "<Figure size 864x576 with 1 Axes>"
      ]
     },
     "metadata": {},
     "output_type": "display_data"
    }
   ],
   "source": [
    "fig = plt.figure(figsize=(12,8),constrained_layout=False)\n",
    "ax = sns.boxplot(x=\"country_code\", y=\"ln_income\", data=dataset[dataset[\"country_code\"].isin(liste_pays_finale)], palette=\"Set2\")\n",
    "ax.set_title(\"Distribution du logarithme d'Income par Pays\",fontsize=20)\n",
    "plt.show()"
   ]
  },
  {
   "cell_type": "markdown",
   "metadata": {},
   "source": [
    "En passant l'income à une échelle logarithmique, les variances semblent déjà être plus égalitaires. **Ce modèle sera donc probablement meilleur**. Vérifions :"
   ]
  },
  {
   "cell_type": "code",
   "execution_count": 9,
   "metadata": {},
   "outputs": [],
   "source": [
    "model_ln = ols('ln_income ~ country_code', data=dataset).fit()"
   ]
  },
  {
   "cell_type": "code",
   "execution_count": 10,
   "metadata": {},
   "outputs": [
    {
     "name": "stdout",
     "output_type": "stream",
     "text": [
      "                            OLS Regression Results                            \n",
      "==============================================================================\n",
      "Dep. Variable:              ln_income   R-squared:                       0.729\n",
      "Model:                            OLS   Adj. R-squared:                  0.729\n",
      "Method:                 Least Squares   F-statistic:                 1.358e+05\n",
      "Date:                Mon, 19 Oct 2020   Prob (F-statistic):               0.00\n",
      "Time:                        14:36:49   Log-Likelihood:            -6.3135e+06\n",
      "No. Observations:             5800000   AIC:                         1.263e+07\n",
      "Df Residuals:                 5799884   BIC:                         1.263e+07\n",
      "Df Model:                         115                                         \n",
      "Covariance Type:            nonrobust                                         \n",
      "=======================================================================================\n",
      "                          coef    std err          t      P>|t|      [0.025      0.975]\n",
      "---------------------------------------------------------------------------------------\n",
      "Intercept               7.8517      0.003   2443.084      0.000       7.845       7.858\n",
      "country_code[T.ARG]     0.4503      0.005     99.083      0.000       0.441       0.459\n",
      "country_code[T.ARM]    -0.5698      0.005   -125.359      0.000      -0.579      -0.561\n",
      "country_code[T.AUT]     1.7383      0.005    382.447      0.000       1.729       1.747\n",
      "country_code[T.AZE]    -0.2478      0.005    -54.524      0.000      -0.257      -0.239\n",
      "country_code[T.BEL]     1.6256      0.005    357.668      0.000       1.617       1.635\n",
      "country_code[T.BFA]    -1.2919      0.005   -284.236      0.000      -1.301      -1.283\n",
      "country_code[T.BGD]    -1.1071      0.005   -243.585      0.000      -1.116      -1.098\n",
      "country_code[T.BGR]     0.4234      0.005     93.164      0.000       0.415       0.432\n",
      "country_code[T.BIH]     0.6881      0.005    151.385      0.000       0.679       0.697\n",
      "country_code[T.BLR]     0.3059      0.005     67.293      0.000       0.297       0.315\n",
      "country_code[T.BOL]    -0.4927      0.005   -108.398      0.000      -0.502      -0.484\n",
      "country_code[T.BRA]     0.0789      0.005     17.363      0.000       0.070       0.088\n",
      "country_code[T.BTN]    -0.7669      0.005   -168.741      0.000      -0.776      -0.758\n",
      "country_code[T.CAF]    -1.7210      0.005   -378.641      0.000      -1.730      -1.712\n",
      "country_code[T.CAN]     1.9628      0.005    431.848      0.000       1.954       1.972\n",
      "country_code[T.CHL]     0.5107      0.005    112.365      0.000       0.502       0.520\n",
      "country_code[T.CHN]    -0.4538      0.005    -99.835      0.000      -0.463      -0.445\n",
      "country_code[T.CIV]    -2.1571      0.005   -474.610      0.000      -2.166      -2.148\n",
      "country_code[T.CMR]    -0.6061      0.005   -133.358      0.000      -0.615      -0.597\n",
      "country_code[T.COD]    -2.5637      0.005   -564.064      0.000      -2.573      -2.555\n",
      "country_code[T.COL]    -0.2953      0.005    -64.980      0.000      -0.304      -0.286\n",
      "country_code[T.CRI]     0.3491      0.005     76.807      0.000       0.340       0.358\n",
      "country_code[T.CYP]     1.7782      0.005    391.238      0.000       1.769       1.787\n",
      "country_code[T.CZE]     1.0542      0.005    231.936      0.000       1.045       1.063\n",
      "country_code[T.DEU]     1.7885      0.005    393.499      0.000       1.780       1.797\n",
      "country_code[T.DNK]     1.7707      0.005    389.576      0.000       1.762       1.780\n",
      "country_code[T.DOM]    -0.1183      0.005    -26.029      0.000      -0.127      -0.109\n",
      "country_code[T.ECU]    -0.2007      0.005    -44.168      0.000      -0.210      -0.192\n",
      "country_code[T.EGY]    -0.4473      0.005    -98.424      0.000      -0.456      -0.438\n",
      "country_code[T.ESP]     1.4575      0.005    320.682      0.000       1.449       1.466\n",
      "country_code[T.EST]     0.9424      0.005    207.341      0.000       0.933       0.951\n",
      "country_code[T.FIN]     1.7185      0.005    378.105      0.000       1.710       1.727\n",
      "country_code[T.FJI]    -0.5096      0.005   -112.114      0.000      -0.518      -0.501\n",
      "country_code[T.FRA]     1.7803      0.005    391.708      0.000       1.771       1.789\n",
      "country_code[T.GBR]     1.9302      0.005    424.671      0.000       1.921       1.939\n",
      "country_code[T.GEO]    -0.9040      0.005   -198.904      0.000      -0.913      -0.895\n",
      "country_code[T.GHA]    -1.5677      0.005   -344.915      0.000      -1.577      -1.559\n",
      "country_code[T.GIN]    -1.5693      0.005   -345.276      0.000      -1.578      -1.560\n",
      "country_code[T.GRC]     1.3265      0.005    291.853      0.000       1.318       1.335\n",
      "country_code[T.GTM]    -0.7844      0.005   -172.578      0.000      -0.793      -0.775\n",
      "country_code[T.HND]    -0.4708      0.005   -103.575      0.000      -0.480      -0.462\n",
      "country_code[T.HRV]     0.9464      0.005    208.226      0.000       0.937       0.955\n",
      "country_code[T.HUN]     0.7374      0.005    162.245      0.000       0.729       0.746\n",
      "country_code[T.IDN]    -0.8822      0.005   -194.107      0.000      -0.891      -0.873\n",
      "country_code[T.IND]    -1.2042      0.005   -264.952      0.000      -1.213      -1.195\n",
      "country_code[T.IRL]     1.7755      0.005    390.636      0.000       1.767       1.784\n",
      "country_code[T.IRN]     0.4875      0.005    107.260      0.000       0.479       0.496\n",
      "country_code[T.IRQ]    -0.6336      0.005   -139.399      0.000      -0.642      -0.625\n",
      "country_code[T.ISL]     2.2098      0.005    486.191      0.000       2.201       2.219\n",
      "country_code[T.ISR]     1.1321      0.005    249.075      0.000       1.123       1.141\n",
      "country_code[T.ITA]     1.5794      0.005    347.499      0.000       1.571       1.588\n",
      "country_code[T.JOR]    -0.0137      0.005     -3.019      0.003      -0.023      -0.005\n",
      "country_code[T.JPN]     1.7288      0.005    380.364      0.000       1.720       1.738\n",
      "country_code[T.KAZ]    -0.2534      0.005    -55.759      0.000      -0.262      -0.245\n",
      "country_code[T.KEN]    -1.7490      0.005   -384.803      0.000      -1.758      -1.740\n",
      "country_code[T.KGZ]    -0.5740      0.005   -126.298      0.000      -0.583      -0.565\n",
      "country_code[T.KHM]    -0.7072      0.005   -155.595      0.000      -0.716      -0.698\n",
      "country_code[T.KOR]     1.5035      0.005    330.788      0.000       1.495       1.512\n",
      "country_code[T.LAO]    -1.1465      0.005   -252.253      0.000      -1.155      -1.138\n",
      "country_code[T.LBR]    -1.6853      0.005   -370.793      0.000      -1.694      -1.676\n",
      "country_code[T.LKA]    -0.5793      0.005   -127.455      0.000      -0.588      -0.570\n",
      "country_code[T.LTU]     0.7493      0.005    164.862      0.000       0.740       0.758\n",
      "country_code[T.LUX]     2.1417      0.005    471.212      0.000       2.133       2.151\n",
      "country_code[T.LVA]     0.7393      0.005    162.664      0.000       0.730       0.748\n",
      "country_code[T.MAR]    -0.3698      0.005    -81.370      0.000      -0.379      -0.361\n",
      "country_code[T.MDA]    -0.3394      0.005    -74.684      0.000      -0.348      -0.331\n",
      "country_code[T.MDG]    -2.3395      0.005   -514.733      0.000      -2.348      -2.331\n",
      "country_code[T.MEX]    -0.0705      0.005    -15.521      0.000      -0.079      -0.062\n",
      "country_code[T.MKD]     0.3187      0.005     70.130      0.000       0.310       0.328\n",
      "country_code[T.MLI]    -1.5050      0.005   -331.131      0.000      -1.514      -1.496\n",
      "country_code[T.MNE]     0.7958      0.005    175.098      0.000       0.787       0.805\n",
      "country_code[T.MNG]    -0.3045      0.005    -66.987      0.000      -0.313      -0.296\n",
      "country_code[T.MOZ]    -1.6754      0.005   -368.610      0.000      -1.684      -1.666\n",
      "country_code[T.MRT]    -0.6340      0.005   -139.490      0.000      -0.643      -0.625\n",
      "country_code[T.MWI]    -1.3767      0.005   -302.902      0.000      -1.386      -1.368\n",
      "country_code[T.MYS]     0.4681      0.005    102.983      0.000       0.459       0.477\n",
      "country_code[T.NER]    -1.6029      0.005   -352.663      0.000      -1.612      -1.594\n",
      "country_code[T.NGA]    -1.6935      0.005   -372.608      0.000      -1.702      -1.685\n",
      "country_code[T.NIC]    -0.4667      0.005   -102.685      0.000      -0.476      -0.458\n",
      "country_code[T.NLD]     1.7897      0.005    393.766      0.000       1.781       1.799\n",
      "country_code[T.NOR]     2.0479      0.005    450.584      0.000       2.039       2.057\n",
      "country_code[T.NPL]    -1.2082      0.005   -265.829      0.000      -1.217      -1.199\n",
      "country_code[T.PAK]    -1.2089      0.005   -265.980      0.000      -1.218      -1.200\n",
      "country_code[T.PAN]     0.1707      0.005     37.546      0.000       0.162       0.180\n",
      "country_code[T.PER]    -0.1560      0.005    -34.333      0.000      -0.165      -0.147\n",
      "country_code[T.PHL]    -0.8789      0.005   -193.381      0.000      -0.888      -0.870\n",
      "country_code[T.POL]     0.6174      0.005    135.837      0.000       0.608       0.626\n",
      "country_code[T.PRT]     1.1456      0.005    252.044      0.000       1.137       1.154\n",
      "country_code[T.PRY]    -0.2593      0.005    -57.042      0.000      -0.268      -0.250\n",
      "country_code[T.PSE]    -1.0424      0.005   -229.343      0.000      -1.051      -1.033\n",
      "country_code[T.ROU]    -0.0021      0.005     -0.451      0.652      -0.011       0.007\n",
      "country_code[T.RUS]     0.7359      0.005    161.906      0.000       0.727       0.745\n",
      "country_code[T.SDN]    -1.0628      0.005   -233.843      0.000      -1.072      -1.054\n",
      "country_code[T.SLV]    -0.2928      0.005    -64.416      0.000      -0.302      -0.284\n",
      "country_code[T.SRB]     0.5168      0.005    113.697      0.000       0.508       0.526\n",
      "country_code[T.SVK]     0.7521      0.005    165.484      0.000       0.743       0.761\n",
      "country_code[T.SVN]     1.4605      0.005    321.340      0.000       1.452       1.469\n",
      "country_code[T.SWE]     1.7271      0.005    379.991      0.000       1.718       1.736\n",
      "country_code[T.SWZ]    -1.9531      0.005   -429.708      0.000      -1.962      -1.944\n",
      "country_code[T.SYR]    -1.5288      0.005   -336.366      0.000      -1.538      -1.520\n",
      "country_code[T.THA]    -0.3427      0.005    -75.401      0.000      -0.352      -0.334\n",
      "country_code[T.TJK]    -0.3702      0.005    -81.460      0.000      -0.379      -0.361\n",
      "country_code[T.TLS]    -1.4278      0.005   -314.131      0.000      -1.437      -1.419\n",
      "country_code[T.TUR]     0.5376      0.005    118.293      0.000       0.529       0.547\n",
      "country_code[T.TWN]     1.6984      0.005    373.675      0.000       1.689       1.707\n",
      "country_code[T.TZA]    -1.7095      0.005   -376.132      0.000      -1.718      -1.701\n",
      "country_code[T.UGA]    -1.2608      0.005   -277.409      0.000      -1.270      -1.252\n",
      "country_code[T.UKR]     0.1597      0.005     35.130      0.000       0.151       0.169\n",
      "country_code[T.URY]     0.3583      0.005     78.838      0.000       0.349       0.367\n",
      "country_code[T.USA]     1.9417      0.005    427.209      0.000       1.933       1.951\n",
      "country_code[T.VEN]    -0.1263      0.005    -27.788      0.000      -0.135      -0.117\n",
      "country_code[T.VNM]    -0.8584      0.005   -188.857      0.000      -0.867      -0.849\n",
      "country_code[T.XKX]    -0.3289      0.005    -72.355      0.000      -0.338      -0.320\n",
      "country_code[T.YEM]    -1.1360      0.005   -249.947      0.000      -1.145      -1.127\n",
      "country_code[T.ZAF]    -0.1340      0.005    -29.474      0.000      -0.143      -0.125\n",
      "==============================================================================\n",
      "Omnibus:                   365997.258   Durbin-Watson:                   0.001\n",
      "Prob(Omnibus):                  0.000   Jarque-Bera (JB):          1707795.893\n",
      "Skew:                          -0.064   Prob(JB):                         0.00\n",
      "Kurtosis:                       5.655   Cond. No.                         117.\n",
      "==============================================================================\n",
      "\n",
      "Warnings:\n",
      "[1] Standard Errors assume that the covariance matrix of the errors is correctly specified.\n"
     ]
    }
   ],
   "source": [
    "print(model_ln.summary())"
   ]
  },
  {
   "cell_type": "markdown",
   "metadata": {},
   "source": [
    "Ce modèle basé sur le logarithme de l'Income est donc meilleur que le premier. Le $R^2$ est ici de 0.729 et **les critères basés sur l'information de Kullback (AIC / BIC) sont également plus petits**.\n",
    "\n",
    "# <span style=\"color:#ca9928\" id=\"anova2\">Régression linéaire sur les données en n’incluant comme variables explicatives uniquement le revenu moyen du pays de l’individu et l’indice de Gini du pays de l’individu</span>"
   ]
  },
  {
   "cell_type": "code",
   "execution_count": 11,
   "metadata": {},
   "outputs": [
    {
     "name": "stdout",
     "output_type": "stream",
     "text": [
      "                            OLS Regression Results                            \n",
      "==============================================================================\n",
      "Dep. Variable:                 income   R-squared:                       0.496\n",
      "Model:                            OLS   Adj. R-squared:                  0.496\n",
      "Method:                 Least Squares   F-statistic:                 1.906e+06\n",
      "Date:                Mon, 19 Oct 2020   Prob (F-statistic):               0.00\n",
      "Time:                        14:37:27   Log-Likelihood:            -5.9310e+07\n",
      "No. Observations:             5800000   AIC:                         1.186e+08\n",
      "Df Residuals:                 5799996   BIC:                         1.186e+08\n",
      "Df Model:                           3                                         \n",
      "Covariance Type:            nonrobust                                         \n",
      "==============================================================================\n",
      "                 coef    std err          t      P>|t|      [0.025      0.975]\n",
      "------------------------------------------------------------------------------\n",
      "Intercept   7.347e-09     20.482   3.59e-10      1.000     -40.144      40.144\n",
      "G_j         2.798e-11      0.527   5.31e-11      1.000      -1.033       1.033\n",
      "m_j            1.0000      0.003    353.887      0.000       0.994       1.006\n",
      "G_j:m_j    -1.288e-13   8.28e-05  -1.56e-09      1.000      -0.000       0.000\n",
      "==============================================================================\n",
      "Omnibus:                  7299082.879   Durbin-Watson:                   0.001\n",
      "Prob(Omnibus):                  0.000   Jarque-Bera (JB):       2103715103.573\n",
      "Skew:                           6.739   Prob(JB):                         0.00\n",
      "Kurtosis:                      95.322   Cond. No.                     2.24e+06\n",
      "==============================================================================\n",
      "\n",
      "Warnings:\n",
      "[1] Standard Errors assume that the covariance matrix of the errors is correctly specified.\n",
      "[2] The condition number is large, 2.24e+06. This might indicate that there are\n",
      "strong multicollinearity or other numerical problems.\n"
     ]
    }
   ],
   "source": [
    "model_gini = ols('income ~ G_j*m_j', data=dataset).fit()\n",
    "print(model_gini.summary())"
   ]
  },
  {
   "cell_type": "markdown",
   "metadata": {},
   "source": [
    "### <span style=\"color:#1c587c\" id=\"tab_anova2\">Pourcentage de variance expliquée par ce modèle</span>\n",
    "\n",
    "L'équation d'analyse de variance pour ce modèle est la suivante : **$SCT = SCE + SCR$**    \n",
    "Pour obtenir ces indicateurs, nous allons afficher la table d'analyse de variances avec Statsmodels, puis calculer les $\\frac{SCE}{SCT}$ *(qui correspondent également au R²)* :"
   ]
  },
  {
   "cell_type": "code",
   "execution_count": 12,
   "metadata": {},
   "outputs": [
    {
     "data": {
      "text/html": [
       "<div>\n",
       "<style scoped>\n",
       "    .dataframe tbody tr th:only-of-type {\n",
       "        vertical-align: middle;\n",
       "    }\n",
       "\n",
       "    .dataframe tbody tr th {\n",
       "        vertical-align: top;\n",
       "    }\n",
       "\n",
       "    .dataframe thead th {\n",
       "        text-align: right;\n",
       "    }\n",
       "</style>\n",
       "<table border=\"1\" class=\"dataframe\">\n",
       "  <thead>\n",
       "    <tr style=\"text-align: right;\">\n",
       "      <th></th>\n",
       "      <th>sum_sq</th>\n",
       "      <th>df</th>\n",
       "      <th>F</th>\n",
       "      <th>PR(&gt;F)</th>\n",
       "      <th>eta_sq</th>\n",
       "    </tr>\n",
       "  </thead>\n",
       "  <tbody>\n",
       "    <tr>\n",
       "      <th>G_j</th>\n",
       "      <td>1.142166e-10</td>\n",
       "      <td>1.0</td>\n",
       "      <td>2.559432e-18</td>\n",
       "      <td>1.0</td>\n",
       "      <td>2.349000e-25</td>\n",
       "    </tr>\n",
       "    <tr>\n",
       "      <th>m_j</th>\n",
       "      <td>2.274058e+14</td>\n",
       "      <td>1.0</td>\n",
       "      <td>5.095838e+06</td>\n",
       "      <td>0.0</td>\n",
       "      <td>4.676868e-01</td>\n",
       "    </tr>\n",
       "    <tr>\n",
       "      <th>G_j:m_j</th>\n",
       "      <td>1.080157e-10</td>\n",
       "      <td>1.0</td>\n",
       "      <td>2.420477e-18</td>\n",
       "      <td>1.0</td>\n",
       "      <td>2.221470e-25</td>\n",
       "    </tr>\n",
       "    <tr>\n",
       "      <th>Residual</th>\n",
       "      <td>2.588293e+14</td>\n",
       "      <td>5799996.0</td>\n",
       "      <td>NaN</td>\n",
       "      <td>NaN</td>\n",
       "      <td>NaN</td>\n",
       "    </tr>\n",
       "  </tbody>\n",
       "</table>\n",
       "</div>"
      ],
      "text/plain": [
       "                sum_sq         df             F  PR(>F)        eta_sq\n",
       "G_j       1.142166e-10        1.0  2.559432e-18     1.0  2.349000e-25\n",
       "m_j       2.274058e+14        1.0  5.095838e+06     0.0  4.676868e-01\n",
       "G_j:m_j   1.080157e-10        1.0  2.420477e-18     1.0  2.221470e-25\n",
       "Residual  2.588293e+14  5799996.0           NaN     NaN           NaN"
      ]
     },
     "execution_count": 12,
     "metadata": {},
     "output_type": "execute_result"
    }
   ],
   "source": [
    "anova_table_gini = sm.stats.anova_lm(model_gini, typ=2)\n",
    "anova_table_gini[\"eta_sq\"] = anova_table_gini[:-1]['sum_sq']/sum(anova_table_gini['sum_sq'])\n",
    "anova_table_gini"
   ]
  },
  {
   "cell_type": "markdown",
   "metadata": {},
   "source": [
    "Le R² de ce modèle est donc de 0.496, ce qui nous donne un **pourcentage de variance expliquée pour le modèle de 49.6 %**. Ce qui est cohérent avec me R² obtenu avec la variable Country_code *(En effet, l'indice de Gini combiné au revenu moyen du pays représentent bien le pays en lui même)*"
   ]
  },
  {
   "cell_type": "markdown",
   "metadata": {},
   "source": [
    "### <span style=\"color:#1c587c\" id=\"anova2_ln\">Avec les données logaritmes</span>"
   ]
  },
  {
   "cell_type": "code",
   "execution_count": 66,
   "metadata": {},
   "outputs": [
    {
     "name": "stdout",
     "output_type": "stream",
     "text": [
      "                            OLS Regression Results                            \n",
      "==============================================================================\n",
      "Dep. Variable:              ln_income   R-squared:                       0.728\n",
      "Model:                            OLS   Adj. R-squared:                  0.728\n",
      "Method:                 Least Squares   F-statistic:                 5.180e+06\n",
      "Date:                Tue, 20 Oct 2020   Prob (F-statistic):               0.00\n",
      "Time:                        10:59:59   Log-Likelihood:            -6.3245e+06\n",
      "No. Observations:             5800000   AIC:                         1.265e+07\n",
      "Df Residuals:                 5799996   BIC:                         1.265e+07\n",
      "Df Model:                           3                                         \n",
      "Covariance Type:            nonrobust                                         \n",
      "==============================================================================\n",
      "                 coef    std err          t      P>|t|      [0.025      0.975]\n",
      "------------------------------------------------------------------------------\n",
      "Intercept      0.0291      0.012      2.368      0.018       0.005       0.053\n",
      "G_j           -0.0048      0.000    -14.579      0.000      -0.005      -0.004\n",
      "ln_m_j         1.0430      0.001    707.326      0.000       1.040       1.046\n",
      "G_j:ln_m_j    -0.0015      4e-05    -38.095      0.000      -0.002      -0.001\n",
      "==============================================================================\n",
      "Omnibus:                   379370.874   Durbin-Watson:                   0.001\n",
      "Prob(Omnibus):                  0.000   Jarque-Bera (JB):          1786827.726\n",
      "Skew:                          -0.100   Prob(JB):                         0.00\n",
      "Kurtosis:                       5.712   Cond. No.                     1.30e+04\n",
      "==============================================================================\n",
      "\n",
      "Warnings:\n",
      "[1] Standard Errors assume that the covariance matrix of the errors is correctly specified.\n",
      "[2] The condition number is large, 1.3e+04. This might indicate that there are\n",
      "strong multicollinearity or other numerical problems.\n"
     ]
    }
   ],
   "source": [
    "model_gini_ln = ols('ln_income ~ G_j*ln_m_j', data=dataset).fit()\n",
    "print(model_gini_ln.summary())"
   ]
  },
  {
   "cell_type": "code",
   "execution_count": 67,
   "metadata": {},
   "outputs": [
    {
     "data": {
      "text/html": [
       "<div>\n",
       "<style scoped>\n",
       "    .dataframe tbody tr th:only-of-type {\n",
       "        vertical-align: middle;\n",
       "    }\n",
       "\n",
       "    .dataframe tbody tr th {\n",
       "        vertical-align: top;\n",
       "    }\n",
       "\n",
       "    .dataframe thead th {\n",
       "        text-align: right;\n",
       "    }\n",
       "</style>\n",
       "<table border=\"1\" class=\"dataframe\">\n",
       "  <thead>\n",
       "    <tr style=\"text-align: right;\">\n",
       "      <th></th>\n",
       "      <th>sum_sq</th>\n",
       "      <th>df</th>\n",
       "      <th>F</th>\n",
       "      <th>PR(&gt;F)</th>\n",
       "      <th>eta_sq</th>\n",
       "    </tr>\n",
       "  </thead>\n",
       "  <tbody>\n",
       "    <tr>\n",
       "      <th>G_j</th>\n",
       "      <td>1.077795e+05</td>\n",
       "      <td>1.0</td>\n",
       "      <td>2.079058e+05</td>\n",
       "      <td>0.000000e+00</td>\n",
       "      <td>0.010735</td>\n",
       "    </tr>\n",
       "    <tr>\n",
       "      <th>ln_m_j</th>\n",
       "      <td>6.925125e+06</td>\n",
       "      <td>1.0</td>\n",
       "      <td>1.335851e+07</td>\n",
       "      <td>0.000000e+00</td>\n",
       "      <td>0.689726</td>\n",
       "    </tr>\n",
       "    <tr>\n",
       "      <th>G_j:ln_m_j</th>\n",
       "      <td>7.523316e+02</td>\n",
       "      <td>1.0</td>\n",
       "      <td>1.451241e+03</td>\n",
       "      <td>1.687277e-317</td>\n",
       "      <td>0.000075</td>\n",
       "    </tr>\n",
       "    <tr>\n",
       "      <th>Residual</th>\n",
       "      <td>3.006750e+06</td>\n",
       "      <td>5799996.0</td>\n",
       "      <td>NaN</td>\n",
       "      <td>NaN</td>\n",
       "      <td>NaN</td>\n",
       "    </tr>\n",
       "  </tbody>\n",
       "</table>\n",
       "</div>"
      ],
      "text/plain": [
       "                  sum_sq         df             F         PR(>F)    eta_sq\n",
       "G_j         1.077795e+05        1.0  2.079058e+05   0.000000e+00  0.010735\n",
       "ln_m_j      6.925125e+06        1.0  1.335851e+07   0.000000e+00  0.689726\n",
       "G_j:ln_m_j  7.523316e+02        1.0  1.451241e+03  1.687277e-317  0.000075\n",
       "Residual    3.006750e+06  5799996.0           NaN            NaN       NaN"
      ]
     },
     "execution_count": 67,
     "metadata": {},
     "output_type": "execute_result"
    }
   ],
   "source": [
    "anova_table_gini_ln = sm.stats.anova_lm(model_gini_ln, typ=2)\n",
    "anova_table_gini_ln[\"eta_sq\"] = anova_table_gini_ln[:-1]['sum_sq']/sum(anova_table_gini_ln['sum_sq'])\n",
    "anova_table_gini_ln"
   ]
  },
  {
   "cell_type": "code",
   "execution_count": 68,
   "metadata": {},
   "outputs": [
    {
     "data": {
      "text/plain": [
       "72.82"
      ]
     },
     "execution_count": 68,
     "metadata": {},
     "output_type": "execute_result"
    }
   ],
   "source": [
    "#Autre méthode de calcul de la variance expliquée du modèle\n",
    "var_exp_model = round((model_gini_ln.ess / model_gini_ln.centered_tss)*100,2)\n",
    "var_exp_model"
   ]
  },
  {
   "cell_type": "markdown",
   "metadata": {},
   "source": [
    "Le R² de ce modèle est donc de 0.591, ce qui nous donne un **pourcentage de variance expliquée pour le modèle à échelle logarithmique de 72.82 %**.\n",
    "\n",
    "#### <span style=\"color:#1c587c\" id=\"anova2_ln\">Décomposition de la variance :</span>"
   ]
  },
  {
   "cell_type": "code",
   "execution_count": 69,
   "metadata": {},
   "outputs": [
    {
     "name": "stdout",
     "output_type": "stream",
     "text": [
      "Le pourcentage de la variance expliquée par le pays de naissance est donc de : 70.05 %\n"
     ]
    }
   ],
   "source": [
    "var_exp_pays = round(sum(anova_table_gini_ln[0:3][\"eta_sq\"])*100,2)\n",
    "print(\"Le pourcentage de la variance expliquée par le pays de naissance est donc de :\",var_exp_pays,\"%\")"
   ]
  },
  {
   "cell_type": "code",
   "execution_count": 70,
   "metadata": {},
   "outputs": [
    {
     "name": "stdout",
     "output_type": "stream",
     "text": [
      "Le pourcentage de la variance expliquée par les autres facteurs non considérés est donc de : 2.77 %\n"
     ]
    }
   ],
   "source": [
    "var_exp_autres = round(var_exp_model - var_exp_pays,2)\n",
    "print(\"Le pourcentage de la variance expliquée par les autres facteurs non considérés est donc de :\",var_exp_autres,\"%\")"
   ]
  },
  {
   "cell_type": "code",
   "execution_count": 71,
   "metadata": {},
   "outputs": [
    {
     "data": {
      "text/plain": [
       "11062515.264065742"
      ]
     },
     "execution_count": 71,
     "metadata": {},
     "output_type": "execute_result"
    }
   ],
   "source": [
    "#Variance totale SCT\n",
    "model_gini_ln.centered_tss"
   ]
  },
  {
   "cell_type": "code",
   "execution_count": 72,
   "metadata": {},
   "outputs": [
    {
     "data": {
      "text/plain": [
       "8055765.204308175"
      ]
     },
     "execution_count": 72,
     "metadata": {},
     "output_type": "execute_result"
    }
   ],
   "source": [
    "#Variance expliquée SCE\n",
    "model_gini_ln.ess"
   ]
  },
  {
   "cell_type": "code",
   "execution_count": 73,
   "metadata": {},
   "outputs": [
    {
     "data": {
      "text/plain": [
       "3006750.059757568"
      ]
     },
     "execution_count": 73,
     "metadata": {},
     "output_type": "execute_result"
    }
   ],
   "source": [
    "#Variance résiduelle SCR\n",
    "model_gini_ln.ssr"
   ]
  },
  {
   "cell_type": "markdown",
   "metadata": {},
   "source": [
    "# <span style=\"color:#ca9928\" id=\"anova3\">Amélioration du dernier modèle avec la classe de revenus des parents</span>"
   ]
  },
  {
   "cell_type": "code",
   "execution_count": 7,
   "metadata": {},
   "outputs": [
    {
     "name": "stdout",
     "output_type": "stream",
     "text": [
      "                            OLS Regression Results                            \n",
      "==============================================================================\n",
      "Dep. Variable:                 income   R-squared:                       0.543\n",
      "Model:                            OLS   Adj. R-squared:                  0.543\n",
      "Method:                 Least Squares   F-statistic:                 9.862e+05\n",
      "Date:                Tue, 20 Oct 2020   Prob (F-statistic):               0.00\n",
      "Time:                        09:44:58   Log-Likelihood:            -5.9026e+07\n",
      "No. Observations:             5800000   AIC:                         1.181e+08\n",
      "Df Residuals:                 5799992   BIC:                         1.181e+08\n",
      "Df Model:                           7                                         \n",
      "Covariance Type:            nonrobust                                         \n",
      "=======================================================================================\n",
      "                          coef    std err          t      P>|t|      [0.025      0.975]\n",
      "---------------------------------------------------------------------------------------\n",
      "Intercept            -623.3582     39.298    -15.862      0.000    -700.381    -546.335\n",
      "c_i_parents            12.3437      0.676     18.271      0.000      11.020      13.668\n",
      "G_j                     7.9867      1.011      7.899      0.000       6.005       9.968\n",
      "c_i_parents:G_j        -0.1582      0.017     -9.098      0.000      -0.192      -0.124\n",
      "m_j                     1.6867      0.005    311.098      0.000       1.676       1.697\n",
      "c_i_parents:m_j        -0.0136   9.32e-05   -145.887      0.000      -0.014      -0.013\n",
      "G_j:m_j                -0.0306      0.000   -192.666      0.000      -0.031      -0.030\n",
      "c_i_parents:G_j:m_j     0.0006   2.73e-06    221.920      0.000       0.001       0.001\n",
      "==============================================================================\n",
      "Omnibus:                  7311128.980   Durbin-Watson:                   0.004\n",
      "Prob(Omnibus):                  0.000   Jarque-Bera (JB):       2207752404.220\n",
      "Skew:                           6.740   Prob(JB):                         0.00\n",
      "Kurtosis:                      97.624   Cond. No.                     2.62e+08\n",
      "==============================================================================\n",
      "\n",
      "Warnings:\n",
      "[1] Standard Errors assume that the covariance matrix of the errors is correctly specified.\n",
      "[2] The condition number is large, 2.62e+08. This might indicate that there are\n",
      "strong multicollinearity or other numerical problems.\n"
     ]
    }
   ],
   "source": [
    "model_global = ols('income ~ c_i_parents*G_j*m_j', data=dataset).fit()\n",
    "print(model_global.summary())"
   ]
  },
  {
   "cell_type": "code",
   "execution_count": 74,
   "metadata": {},
   "outputs": [
    {
     "name": "stdout",
     "output_type": "stream",
     "text": [
      "                            OLS Regression Results                            \n",
      "==============================================================================\n",
      "Dep. Variable:              ln_income   R-squared:                       0.784\n",
      "Model:                            OLS   Adj. R-squared:                  0.784\n",
      "Method:                 Least Squares   F-statistic:                 3.005e+06\n",
      "Date:                Tue, 20 Oct 2020   Prob (F-statistic):               0.00\n",
      "Time:                        11:01:56   Log-Likelihood:            -5.6597e+06\n",
      "No. Observations:             5800000   AIC:                         1.132e+07\n",
      "Df Residuals:                 5799992   BIC:                         1.132e+07\n",
      "Df Model:                           7                                         \n",
      "Covariance Type:            nonrobust                                         \n",
      "=============================================================================================\n",
      "                                coef    std err          t      P>|t|      [0.025      0.975]\n",
      "---------------------------------------------------------------------------------------------\n",
      "Intercept                    -2.0508      0.045    -46.044      0.000      -2.138      -1.964\n",
      "ln_c_i_parents                0.5718      0.012     48.179      0.000       0.549       0.595\n",
      "G_j                           0.0152      0.001     12.714      0.000       0.013       0.017\n",
      "ln_c_i_parents:G_j           -0.0055      0.000    -17.268      0.000      -0.006      -0.005\n",
      "ln_m_j                        1.4357      0.005    268.659      0.000       1.425       1.446\n",
      "ln_c_i_parents:ln_m_j        -0.1079      0.001    -75.808      0.000      -0.111      -0.105\n",
      "G_j:ln_m_j                   -0.0115      0.000    -79.241      0.000      -0.012      -0.011\n",
      "ln_c_i_parents:G_j:ln_m_j     0.0027   3.87e-05     70.909      0.000       0.003       0.003\n",
      "==============================================================================\n",
      "Omnibus:                   374936.798   Durbin-Watson:                   0.012\n",
      "Prob(Omnibus):                  0.000   Jarque-Bera (JB):          1776785.090\n",
      "Skew:                          -0.078   Prob(JB):                         0.00\n",
      "Kurtosis:                       5.707   Cond. No.                     2.12e+05\n",
      "==============================================================================\n",
      "\n",
      "Warnings:\n",
      "[1] Standard Errors assume that the covariance matrix of the errors is correctly specified.\n",
      "[2] The condition number is large, 2.12e+05. This might indicate that there are\n",
      "strong multicollinearity or other numerical problems.\n"
     ]
    }
   ],
   "source": [
    "model_global_ln = ols('ln_income ~ ln_c_i_parents*G_j*ln_m_j', data=dataset).fit()\n",
    "print(model_global_ln.summary()) "
   ]
  },
  {
   "cell_type": "code",
   "execution_count": 75,
   "metadata": {},
   "outputs": [
    {
     "data": {
      "text/html": [
       "<div>\n",
       "<style scoped>\n",
       "    .dataframe tbody tr th:only-of-type {\n",
       "        vertical-align: middle;\n",
       "    }\n",
       "\n",
       "    .dataframe tbody tr th {\n",
       "        vertical-align: top;\n",
       "    }\n",
       "\n",
       "    .dataframe thead th {\n",
       "        text-align: right;\n",
       "    }\n",
       "</style>\n",
       "<table border=\"1\" class=\"dataframe\">\n",
       "  <thead>\n",
       "    <tr style=\"text-align: right;\">\n",
       "      <th></th>\n",
       "      <th>sum_sq</th>\n",
       "      <th>df</th>\n",
       "      <th>F</th>\n",
       "      <th>PR(&gt;F)</th>\n",
       "      <th>eta_sq</th>\n",
       "    </tr>\n",
       "  </thead>\n",
       "  <tbody>\n",
       "    <tr>\n",
       "      <th>ln_c_i_parents</th>\n",
       "      <td>5.150196e+05</td>\n",
       "      <td>1.0</td>\n",
       "      <td>1.249449e+06</td>\n",
       "      <td>0.000000e+00</td>\n",
       "      <td>0.051347</td>\n",
       "    </tr>\n",
       "    <tr>\n",
       "      <th>G_j</th>\n",
       "      <td>1.077795e+05</td>\n",
       "      <td>1.0</td>\n",
       "      <td>2.614754e+05</td>\n",
       "      <td>0.000000e+00</td>\n",
       "      <td>0.010746</td>\n",
       "    </tr>\n",
       "    <tr>\n",
       "      <th>ln_c_i_parents:G_j</th>\n",
       "      <td>8.816544e+04</td>\n",
       "      <td>1.0</td>\n",
       "      <td>2.138913e+05</td>\n",
       "      <td>0.000000e+00</td>\n",
       "      <td>0.008790</td>\n",
       "    </tr>\n",
       "    <tr>\n",
       "      <th>ln_m_j</th>\n",
       "      <td>6.925125e+06</td>\n",
       "      <td>1.0</td>\n",
       "      <td>1.680050e+07</td>\n",
       "      <td>0.000000e+00</td>\n",
       "      <td>0.690433</td>\n",
       "    </tr>\n",
       "    <tr>\n",
       "      <th>ln_c_i_parents:ln_m_j</th>\n",
       "      <td>4.566935e+02</td>\n",
       "      <td>1.0</td>\n",
       "      <td>1.107948e+03</td>\n",
       "      <td>6.521655e-243</td>\n",
       "      <td>0.000046</td>\n",
       "    </tr>\n",
       "    <tr>\n",
       "      <th>G_j:ln_m_j</th>\n",
       "      <td>7.523316e+02</td>\n",
       "      <td>1.0</td>\n",
       "      <td>1.825173e+03</td>\n",
       "      <td>0.000000e+00</td>\n",
       "      <td>0.000075</td>\n",
       "    </tr>\n",
       "    <tr>\n",
       "      <th>ln_c_i_parents:G_j:ln_m_j</th>\n",
       "      <td>2.072542e+03</td>\n",
       "      <td>1.0</td>\n",
       "      <td>5.028033e+03</td>\n",
       "      <td>0.000000e+00</td>\n",
       "      <td>0.000207</td>\n",
       "    </tr>\n",
       "    <tr>\n",
       "      <th>Residual</th>\n",
       "      <td>2.390742e+06</td>\n",
       "      <td>5799992.0</td>\n",
       "      <td>NaN</td>\n",
       "      <td>NaN</td>\n",
       "      <td>NaN</td>\n",
       "    </tr>\n",
       "  </tbody>\n",
       "</table>\n",
       "</div>"
      ],
      "text/plain": [
       "                                 sum_sq         df             F  \\\n",
       "ln_c_i_parents             5.150196e+05        1.0  1.249449e+06   \n",
       "G_j                        1.077795e+05        1.0  2.614754e+05   \n",
       "ln_c_i_parents:G_j         8.816544e+04        1.0  2.138913e+05   \n",
       "ln_m_j                     6.925125e+06        1.0  1.680050e+07   \n",
       "ln_c_i_parents:ln_m_j      4.566935e+02        1.0  1.107948e+03   \n",
       "G_j:ln_m_j                 7.523316e+02        1.0  1.825173e+03   \n",
       "ln_c_i_parents:G_j:ln_m_j  2.072542e+03        1.0  5.028033e+03   \n",
       "Residual                   2.390742e+06  5799992.0           NaN   \n",
       "\n",
       "                                  PR(>F)    eta_sq  \n",
       "ln_c_i_parents              0.000000e+00  0.051347  \n",
       "G_j                         0.000000e+00  0.010746  \n",
       "ln_c_i_parents:G_j          0.000000e+00  0.008790  \n",
       "ln_m_j                      0.000000e+00  0.690433  \n",
       "ln_c_i_parents:ln_m_j      6.521655e-243  0.000046  \n",
       "G_j:ln_m_j                  0.000000e+00  0.000075  \n",
       "ln_c_i_parents:G_j:ln_m_j   0.000000e+00  0.000207  \n",
       "Residual                             NaN       NaN  "
      ]
     },
     "execution_count": 75,
     "metadata": {},
     "output_type": "execute_result"
    }
   ],
   "source": [
    "anova_table_global_ln = sm.stats.anova_lm(model_global_ln, typ=2)\n",
    "anova_table_global_ln[\"eta_sq\"] = anova_table_global_ln[:-1]['sum_sq']/sum(anova_table_global_ln['sum_sq'])\n",
    "anova_table_global_ln"
   ]
  },
  {
   "cell_type": "markdown",
   "metadata": {},
   "source": [
    "Cette fois encore, le modèle avec les échelles logaritmiques est meilleur sur tous les indicateurs. Nous allons donc considérer ce dernier modèle ln.\n",
    "\n",
    "### <span style=\"color:#1c587c\" id=\"tab_anova3\">Pourcentage de variance expliquée par ce modèle</span>\n",
    "\n",
    "Sur ce dernier modèle, **le pourcentage de variance expliqué est de 78.4 %**, ce qui en fait, à priori, le meilleur modèle pour cette analyse."
   ]
  },
  {
   "cell_type": "code",
   "execution_count": 76,
   "metadata": {},
   "outputs": [
    {
     "name": "stdout",
     "output_type": "stream",
     "text": [
      "Le pourcentage de la variance expliquée par le pays de naissance et la classe des parents est donc de : 76.16 %\n"
     ]
    }
   ],
   "source": [
    "var_exp_pays_ci_parents = round(sum(anova_table_global_ln[0:-1][\"eta_sq\"])*100,2)\n",
    "print(\"Le pourcentage de la variance expliquée par le pays de naissance et la classe des parents est donc de :\",var_exp_pays_ci_parents,\"%\")"
   ]
  },
  {
   "cell_type": "code",
   "execution_count": 77,
   "metadata": {},
   "outputs": [
    {
     "name": "stdout",
     "output_type": "stream",
     "text": [
      "Le pourcentage de la variance expliquée par les autres facteurs non considérés est donc de : 2.23 %\n"
     ]
    }
   ],
   "source": [
    "var_exp_model_2 = round((model_global_ln.ess / model_global_ln.centered_tss)*100,2)\n",
    "var_exp_autres_2 = round(var_exp_model_2 - var_exp_pays_ci_parents,2)\n",
    "print(\"Le pourcentage de la variance expliquée par les autres facteurs non considérés est donc de :\",var_exp_autres_2,\"%\")"
   ]
  },
  {
   "cell_type": "markdown",
   "metadata": {},
   "source": [
    "Nous allons donc réaliser quelques tests supplémentaires sur ce dernier modèle :\n",
    "### <span style=\"color:#1c587c\" id=\"leviers\">Calcul des leviers</span>"
   ]
  },
  {
   "cell_type": "code",
   "execution_count": 78,
   "metadata": {},
   "outputs": [],
   "source": [
    "#Les test seront réalisés à un niveau de 5%\n",
    "alpha = 0.05\n",
    "#Récupérons le nombre d'individus de l'échantillon (n), le nombre de variables (p).\n",
    "n = dataset.shape[0]\n",
    "p = 4"
   ]
  },
  {
   "cell_type": "code",
   "execution_count": 79,
   "metadata": {},
   "outputs": [],
   "source": [
    "#influences\n",
    "influences = model_global_ln.get_influence()"
   ]
  },
  {
   "cell_type": "markdown",
   "metadata": {},
   "source": [
    "Le seuil des leviers est défini par la formule $Seuil = 2 * \\frac{p}{n}$"
   ]
  },
  {
   "cell_type": "code",
   "execution_count": 80,
   "metadata": {},
   "outputs": [],
   "source": [
    "dataset['levier'] = influences.hat_matrix_diag\n",
    "seuil_levier = 2*p/n"
   ]
  },
  {
   "cell_type": "markdown",
   "metadata": {},
   "source": [
    "### <span style=\"color:#1c587c\" id=\"student\">les résidus studentisés</span>\n",
    "\n",
    "Les résidus sont dit studentisés lorsqu’ils sont divisés par leur écart-type empirique. Le seuil pour les résidus studentisés est une loi de Student à $n-p-1$ degrés de liberté et pour les grands échantillons, ils doivent rester compris entre -2 et 2 :"
   ]
  },
  {
   "cell_type": "code",
   "execution_count": 81,
   "metadata": {},
   "outputs": [],
   "source": [
    "from scipy.stats import t, shapiro\n",
    "dataset['rstudent'] = influences.resid_studentized_internal\n",
    "seuil_rstudent = t.ppf(1-alpha/2,n-p-1)"
   ]
  },
  {
   "cell_type": "markdown",
   "metadata": {},
   "source": [
    "### <span style=\"color:#1c587c\" id=\"cook\">Distances de Cook</span>\n",
    "Le seuil de la distance de Cook est de $n-p$."
   ]
  },
  {
   "cell_type": "code",
   "execution_count": 82,
   "metadata": {},
   "outputs": [],
   "source": [
    "smf = influences.cooks_distance\n",
    "dataset['dcooks'] = smf[0]\n",
    "seuil_dcook = 4/(n-p)"
   ]
  },
  {
   "cell_type": "code",
   "execution_count": 83,
   "metadata": {},
   "outputs": [
    {
     "name": "stdout",
     "output_type": "stream",
     "text": [
      "Nombre d'individus atypiques : 1675862\n"
     ]
    }
   ],
   "source": [
    "df_atypiques = dataset[(dataset[\"levier\"]>seuil_levier) | (np.abs(dataset[\"rstudent\"])>seuil_rstudent) | (dataset[\"dcooks\"]>seuil_dcook)]\n",
    "print(\"Nombre d'individus atypiques :\", len(df_atypiques))"
   ]
  },
  {
   "cell_type": "code",
   "execution_count": 84,
   "metadata": {},
   "outputs": [
    {
     "data": {
      "text/html": [
       "<div>\n",
       "<style scoped>\n",
       "    .dataframe tbody tr th:only-of-type {\n",
       "        vertical-align: middle;\n",
       "    }\n",
       "\n",
       "    .dataframe tbody tr th {\n",
       "        vertical-align: top;\n",
       "    }\n",
       "\n",
       "    .dataframe thead th {\n",
       "        text-align: right;\n",
       "    }\n",
       "</style>\n",
       "<table border=\"1\" class=\"dataframe\">\n",
       "  <thead>\n",
       "    <tr style=\"text-align: right;\">\n",
       "      <th></th>\n",
       "      <th></th>\n",
       "      <th></th>\n",
       "      <th>G_j</th>\n",
       "      <th>income</th>\n",
       "      <th>gdpppp</th>\n",
       "      <th>m_j</th>\n",
       "      <th>p_j</th>\n",
       "      <th>ln_income</th>\n",
       "      <th>ln_c_i_parents</th>\n",
       "      <th>ln_c_i_child</th>\n",
       "      <th>levier</th>\n",
       "      <th>rstudent</th>\n",
       "      <th>dcooks</th>\n",
       "      <th>ln_m_j</th>\n",
       "    </tr>\n",
       "    <tr>\n",
       "      <th>country_code</th>\n",
       "      <th>c_i_child</th>\n",
       "      <th>c_i_parents</th>\n",
       "      <th></th>\n",
       "      <th></th>\n",
       "      <th></th>\n",
       "      <th></th>\n",
       "      <th></th>\n",
       "      <th></th>\n",
       "      <th></th>\n",
       "      <th></th>\n",
       "      <th></th>\n",
       "      <th></th>\n",
       "      <th></th>\n",
       "      <th></th>\n",
       "    </tr>\n",
       "  </thead>\n",
       "  <tbody>\n",
       "    <tr>\n",
       "      <th rowspan=\"5\" valign=\"top\">ALB</th>\n",
       "      <th rowspan=\"5\" valign=\"top\">1</th>\n",
       "      <th>1.0</th>\n",
       "      <td>30.0</td>\n",
       "      <td>728.89795</td>\n",
       "      <td>7297.0</td>\n",
       "      <td>2994.829902</td>\n",
       "      <td>0.82</td>\n",
       "      <td>6.591534</td>\n",
       "      <td>0.000000</td>\n",
       "      <td>0.00000</td>\n",
       "      <td>0.000006</td>\n",
       "      <td>-0.847865</td>\n",
       "      <td>5.788908e-07</td>\n",
       "      <td>8.004643</td>\n",
       "    </tr>\n",
       "    <tr>\n",
       "      <th>2.0</th>\n",
       "      <td>30.0</td>\n",
       "      <td>728.89795</td>\n",
       "      <td>7297.0</td>\n",
       "      <td>2994.829902</td>\n",
       "      <td>0.82</td>\n",
       "      <td>6.591534</td>\n",
       "      <td>0.693147</td>\n",
       "      <td>0.00000</td>\n",
       "      <td>0.000004</td>\n",
       "      <td>-1.065228</td>\n",
       "      <td>6.177568e-07</td>\n",
       "      <td>8.004643</td>\n",
       "    </tr>\n",
       "    <tr>\n",
       "      <th>3.0</th>\n",
       "      <td>30.0</td>\n",
       "      <td>728.89795</td>\n",
       "      <td>7297.0</td>\n",
       "      <td>2994.829902</td>\n",
       "      <td>0.82</td>\n",
       "      <td>6.591534</td>\n",
       "      <td>1.098612</td>\n",
       "      <td>0.00000</td>\n",
       "      <td>0.000003</td>\n",
       "      <td>-1.192377</td>\n",
       "      <td>5.932992e-07</td>\n",
       "      <td>8.004643</td>\n",
       "    </tr>\n",
       "    <tr>\n",
       "      <th>4.0</th>\n",
       "      <td>30.0</td>\n",
       "      <td>728.89795</td>\n",
       "      <td>7297.0</td>\n",
       "      <td>2994.829902</td>\n",
       "      <td>0.82</td>\n",
       "      <td>6.591534</td>\n",
       "      <td>1.386294</td>\n",
       "      <td>0.00000</td>\n",
       "      <td>0.000003</td>\n",
       "      <td>-1.282591</td>\n",
       "      <td>5.568577e-07</td>\n",
       "      <td>8.004643</td>\n",
       "    </tr>\n",
       "    <tr>\n",
       "      <th>5.0</th>\n",
       "      <td>30.0</td>\n",
       "      <td>728.89795</td>\n",
       "      <td>7297.0</td>\n",
       "      <td>2994.829902</td>\n",
       "      <td>0.82</td>\n",
       "      <td>6.591534</td>\n",
       "      <td>1.609438</td>\n",
       "      <td>0.00000</td>\n",
       "      <td>0.000002</td>\n",
       "      <td>-1.352567</td>\n",
       "      <td>5.193949e-07</td>\n",
       "      <td>8.004643</td>\n",
       "    </tr>\n",
       "    <tr>\n",
       "      <th>...</th>\n",
       "      <th>...</th>\n",
       "      <th>...</th>\n",
       "      <td>...</td>\n",
       "      <td>...</td>\n",
       "      <td>...</td>\n",
       "      <td>...</td>\n",
       "      <td>...</td>\n",
       "      <td>...</td>\n",
       "      <td>...</td>\n",
       "      <td>...</td>\n",
       "      <td>...</td>\n",
       "      <td>...</td>\n",
       "      <td>...</td>\n",
       "      <td>...</td>\n",
       "    </tr>\n",
       "    <tr>\n",
       "      <th rowspan=\"5\" valign=\"top\">ZAF</th>\n",
       "      <th rowspan=\"5\" valign=\"top\">100</th>\n",
       "      <th>96.0</th>\n",
       "      <td>63.0</td>\n",
       "      <td>82408.55000</td>\n",
       "      <td>9602.0</td>\n",
       "      <td>5617.904880</td>\n",
       "      <td>0.68</td>\n",
       "      <td>11.319444</td>\n",
       "      <td>4.564348</td>\n",
       "      <td>4.60517</td>\n",
       "      <td>0.000006</td>\n",
       "      <td>4.188060</td>\n",
       "      <td>1.237945e-05</td>\n",
       "      <td>8.633714</td>\n",
       "    </tr>\n",
       "    <tr>\n",
       "      <th>97.0</th>\n",
       "      <td>63.0</td>\n",
       "      <td>82408.55000</td>\n",
       "      <td>9602.0</td>\n",
       "      <td>5617.904880</td>\n",
       "      <td>0.68</td>\n",
       "      <td>11.319444</td>\n",
       "      <td>4.574711</td>\n",
       "      <td>4.60517</td>\n",
       "      <td>0.000006</td>\n",
       "      <td>4.175389</td>\n",
       "      <td>1.244351e-05</td>\n",
       "      <td>8.633714</td>\n",
       "    </tr>\n",
       "    <tr>\n",
       "      <th>98.0</th>\n",
       "      <td>63.0</td>\n",
       "      <td>82408.55000</td>\n",
       "      <td>9602.0</td>\n",
       "      <td>5617.904880</td>\n",
       "      <td>0.68</td>\n",
       "      <td>11.319444</td>\n",
       "      <td>4.584967</td>\n",
       "      <td>4.60517</td>\n",
       "      <td>0.000006</td>\n",
       "      <td>4.162848</td>\n",
       "      <td>1.250700e-05</td>\n",
       "      <td>8.633714</td>\n",
       "    </tr>\n",
       "    <tr>\n",
       "      <th>99.0</th>\n",
       "      <td>63.0</td>\n",
       "      <td>82408.55000</td>\n",
       "      <td>9602.0</td>\n",
       "      <td>5617.904880</td>\n",
       "      <td>0.68</td>\n",
       "      <td>11.319444</td>\n",
       "      <td>4.595120</td>\n",
       "      <td>4.60517</td>\n",
       "      <td>0.000006</td>\n",
       "      <td>4.150435</td>\n",
       "      <td>1.256989e-05</td>\n",
       "      <td>8.633714</td>\n",
       "    </tr>\n",
       "    <tr>\n",
       "      <th>100.0</th>\n",
       "      <td>63.0</td>\n",
       "      <td>82408.55000</td>\n",
       "      <td>9602.0</td>\n",
       "      <td>5617.904880</td>\n",
       "      <td>0.68</td>\n",
       "      <td>11.319444</td>\n",
       "      <td>4.605170</td>\n",
       "      <td>4.60517</td>\n",
       "      <td>0.000006</td>\n",
       "      <td>4.138146</td>\n",
       "      <td>1.263220e-05</td>\n",
       "      <td>8.633714</td>\n",
       "    </tr>\n",
       "  </tbody>\n",
       "</table>\n",
       "<p>317088 rows × 12 columns</p>\n",
       "</div>"
      ],
      "text/plain": [
       "                                     G_j       income  gdpppp          m_j  \\\n",
       "country_code c_i_child c_i_parents                                           \n",
       "ALB          1         1.0          30.0    728.89795  7297.0  2994.829902   \n",
       "                       2.0          30.0    728.89795  7297.0  2994.829902   \n",
       "                       3.0          30.0    728.89795  7297.0  2994.829902   \n",
       "                       4.0          30.0    728.89795  7297.0  2994.829902   \n",
       "                       5.0          30.0    728.89795  7297.0  2994.829902   \n",
       "...                                  ...          ...     ...          ...   \n",
       "ZAF          100       96.0         63.0  82408.55000  9602.0  5617.904880   \n",
       "                       97.0         63.0  82408.55000  9602.0  5617.904880   \n",
       "                       98.0         63.0  82408.55000  9602.0  5617.904880   \n",
       "                       99.0         63.0  82408.55000  9602.0  5617.904880   \n",
       "                       100.0        63.0  82408.55000  9602.0  5617.904880   \n",
       "\n",
       "                                     p_j  ln_income  ln_c_i_parents  \\\n",
       "country_code c_i_child c_i_parents                                    \n",
       "ALB          1         1.0          0.82   6.591534        0.000000   \n",
       "                       2.0          0.82   6.591534        0.693147   \n",
       "                       3.0          0.82   6.591534        1.098612   \n",
       "                       4.0          0.82   6.591534        1.386294   \n",
       "                       5.0          0.82   6.591534        1.609438   \n",
       "...                                  ...        ...             ...   \n",
       "ZAF          100       96.0         0.68  11.319444        4.564348   \n",
       "                       97.0         0.68  11.319444        4.574711   \n",
       "                       98.0         0.68  11.319444        4.584967   \n",
       "                       99.0         0.68  11.319444        4.595120   \n",
       "                       100.0        0.68  11.319444        4.605170   \n",
       "\n",
       "                                    ln_c_i_child    levier  rstudent  \\\n",
       "country_code c_i_child c_i_parents                                     \n",
       "ALB          1         1.0               0.00000  0.000006 -0.847865   \n",
       "                       2.0               0.00000  0.000004 -1.065228   \n",
       "                       3.0               0.00000  0.000003 -1.192377   \n",
       "                       4.0               0.00000  0.000003 -1.282591   \n",
       "                       5.0               0.00000  0.000002 -1.352567   \n",
       "...                                          ...       ...       ...   \n",
       "ZAF          100       96.0              4.60517  0.000006  4.188060   \n",
       "                       97.0              4.60517  0.000006  4.175389   \n",
       "                       98.0              4.60517  0.000006  4.162848   \n",
       "                       99.0              4.60517  0.000006  4.150435   \n",
       "                       100.0             4.60517  0.000006  4.138146   \n",
       "\n",
       "                                          dcooks    ln_m_j  \n",
       "country_code c_i_child c_i_parents                          \n",
       "ALB          1         1.0          5.788908e-07  8.004643  \n",
       "                       2.0          6.177568e-07  8.004643  \n",
       "                       3.0          5.932992e-07  8.004643  \n",
       "                       4.0          5.568577e-07  8.004643  \n",
       "                       5.0          5.193949e-07  8.004643  \n",
       "...                                          ...       ...  \n",
       "ZAF          100       96.0         1.237945e-05  8.633714  \n",
       "                       97.0         1.244351e-05  8.633714  \n",
       "                       98.0         1.250700e-05  8.633714  \n",
       "                       99.0         1.256989e-05  8.633714  \n",
       "                       100.0        1.263220e-05  8.633714  \n",
       "\n",
       "[317088 rows x 12 columns]"
      ]
     },
     "execution_count": 84,
     "metadata": {},
     "output_type": "execute_result"
    }
   ],
   "source": [
    "df_atypiques.groupby(by=[\"country_code\",\"c_i_child\",\"c_i_parents\"]).mean()"
   ]
  },
  {
   "cell_type": "markdown",
   "metadata": {},
   "source": [
    "Naturellement, **nous ne pouvons pas supprimer autant de valeurs atypiques de notre jeu de données**. Ici la solution pour un algorithme plus performant serait peut-être d'inclure la région de notre pays pour les regrouper en clusters cohérents, ou d'inclure d'autres facteurs sociétaux.\n",
    "\n",
    "Pour afficher les graphiques de leviers, résidus studentisés et distance de Cook, nous ne pouvons pas le faire sur les 5 800 000 individus. **Nous allons donc créer un DataFrame groupé en calculant les moyennes des indicateurs par pays**. Nous pourrons ainsi repérer les pays atypiques."
   ]
  },
  {
   "cell_type": "code",
   "execution_count": 87,
   "metadata": {},
   "outputs": [],
   "source": [
    "gp_dataset = dataset.groupby(by=[\"country_code\"]).mean().reset_index()"
   ]
  },
  {
   "cell_type": "code",
   "execution_count": 89,
   "metadata": {},
   "outputs": [
    {
     "data": {
      "image/png": "[encoded data removed]",
      "text/plain": [
       "<Figure size 1440x864 with 1 Axes>"
      ]
     },
     "metadata": {},
     "output_type": "display_data"
    }
   ],
   "source": [
    "#Barplot des leviers\n",
    "plt.figure(figsize=(20,12))\n",
    "plt.bar(gp_dataset[\"country_code\"], gp_dataset['levier'])\n",
    "plt.xticks(np.arange(0, 116, step=1), rotation='vertical')\n",
    "plt.xlabel('Pays')\n",
    "plt.ylabel('Leviers')\n",
    "plt.title(\"Projection des leviers des différents pays observés\", fontsize=22)\n",
    "plt.plot([0, 116], [seuil_levier, seuil_levier], color='r')\n",
    "plt.show()"
   ]
  },
  {
   "cell_type": "code",
   "execution_count": 90,
   "metadata": {},
   "outputs": [
    {
     "data": {
      "image/png": "[encoded data removed]",
      "text/plain": [
       "<Figure size 1440x864 with 1 Axes>"
      ]
     },
     "metadata": {},
     "output_type": "display_data"
    }
   ],
   "source": [
    "#Barplot des résidus studentisés\n",
    "plt.figure(figsize=(20,12))\n",
    "plt.bar(gp_dataset[\"country_code\"], gp_dataset['rstudent'])\n",
    "plt.xticks(np.arange(0, 116, step=1), rotation='vertical')\n",
    "plt.xlabel('Pays')\n",
    "plt.ylabel('Résidus studentisés')\n",
    "plt.title(\"Projection des résidus studentisés des différents pays observés\", fontsize=22)\n",
    "plt.plot([0, 116], [seuil_rstudent, seuil_rstudent], color='r')\n",
    "plt.plot([0, 116], [-seuil_rstudent, -seuil_rstudent], color='r')\n",
    "plt.show()"
   ]
  },
  {
   "cell_type": "code",
   "execution_count": 91,
   "metadata": {},
   "outputs": [
    {
     "data": {
      "image/png": "[encoded data removed]",
      "text/plain": [
       "<Figure size 1440x864 with 1 Axes>"
      ]
     },
     "metadata": {},
     "output_type": "display_data"
    }
   ],
   "source": [
    "#Barplot de la distance de Cook\n",
    "plt.figure(figsize=(20,12))\n",
    "plt.bar(gp_dataset[\"country_code\"], gp_dataset['dcooks'])\n",
    "plt.xticks(np.arange(0, 116, step=1), rotation='vertical')\n",
    "plt.xlabel('Pays')\n",
    "plt.ylabel('Distances de Cook')\n",
    "plt.title(\"Projection des distances de Cook des différents pays observés\", fontsize=22)\n",
    "plt.plot([0, 116], [seuil_dcook, seuil_dcook], color='r')\n",
    "plt.show()"
   ]
  },
  {
   "cell_type": "markdown",
   "metadata": {},
   "source": [
    "### <span style=\"color:#1c587c\" id=\"colin\">Vérification de la colinéarité des variables</span>"
   ]
  },
  {
   "cell_type": "code",
   "execution_count": 92,
   "metadata": {},
   "outputs": [],
   "source": [
    "from statsmodels.stats.outliers_influence import variance_inflation_factor\n",
    "variables = model_global_ln.model.exog\n",
    "vif = [variance_inflation_factor(variables, exog_idx = i) for i in np.arange(1,variables.shape[1])]"
   ]
  },
  {
   "cell_type": "code",
   "execution_count": 93,
   "metadata": {},
   "outputs": [
    {
     "data": {
      "text/html": [
       "<div>\n",
       "<style scoped>\n",
       "    .dataframe tbody tr th:only-of-type {\n",
       "        vertical-align: middle;\n",
       "    }\n",
       "\n",
       "    .dataframe tbody tr th {\n",
       "        vertical-align: top;\n",
       "    }\n",
       "\n",
       "    .dataframe thead th {\n",
       "        text-align: right;\n",
       "    }\n",
       "</style>\n",
       "<table border=\"1\" class=\"dataframe\">\n",
       "  <thead>\n",
       "    <tr style=\"text-align: right;\">\n",
       "      <th></th>\n",
       "      <th>VIF</th>\n",
       "    </tr>\n",
       "  </thead>\n",
       "  <tbody>\n",
       "    <tr>\n",
       "      <th>ln_c_i_parents</th>\n",
       "      <td>1690.053870</td>\n",
       "    </tr>\n",
       "    <tr>\n",
       "      <th>G_j</th>\n",
       "      <td>1343.794642</td>\n",
       "    </tr>\n",
       "    <tr>\n",
       "      <th>ln_c_i_parents:G_j</th>\n",
       "      <td>3074.571118</td>\n",
       "    </tr>\n",
       "    <tr>\n",
       "      <th>ln_m_j</th>\n",
       "      <td>528.756479</td>\n",
       "    </tr>\n",
       "    <tr>\n",
       "      <th>ln_c_i_parents:ln_m_j</th>\n",
       "      <td>2127.973892</td>\n",
       "    </tr>\n",
       "    <tr>\n",
       "      <th>G_j:ln_m_j</th>\n",
       "      <td>1417.664189</td>\n",
       "    </tr>\n",
       "    <tr>\n",
       "      <th>ln_c_i_parents:G_j:ln_m_j</th>\n",
       "      <td>3075.453148</td>\n",
       "    </tr>\n",
       "  </tbody>\n",
       "</table>\n",
       "</div>"
      ],
      "text/plain": [
       "                                   VIF\n",
       "ln_c_i_parents             1690.053870\n",
       "G_j                        1343.794642\n",
       "ln_c_i_parents:G_j         3074.571118\n",
       "ln_m_j                      528.756479\n",
       "ln_c_i_parents:ln_m_j      2127.973892\n",
       "G_j:ln_m_j                 1417.664189\n",
       "ln_c_i_parents:G_j:ln_m_j  3075.453148"
      ]
     },
     "execution_count": 93,
     "metadata": {},
     "output_type": "execute_result"
    }
   ],
   "source": [
    "df_vif = pd.DataFrame(index = anova_table_global_ln.index[0:-1], columns = [\"VIF\"])\n",
    "df_vif[\"VIF\"] = vif\n",
    "df_vif"
   ]
  },
  {
   "cell_type": "markdown",
   "metadata": {},
   "source": [
    "La documentation de Statsmodels nous indique que si le VIF est supérieur à 5, alors **la variable explicative donnée par exog_idx est hautement colinéaire avec les autres variables explicatives**. Cela pourrait apporter des erreurs importantes à notre modèle."
   ]
  },
  {
   "cell_type": "markdown",
   "metadata": {},
   "source": [
    "### <span style=\"color:#1c587c\" id=\"homosc\">Test de l’homoscédasticité</span>\n",
    "L’homoscédasticité représente la constance de la variance des résidus :"
   ]
  },
  {
   "cell_type": "code",
   "execution_count": 94,
   "metadata": {},
   "outputs": [
    {
     "name": "stdout",
     "output_type": "stream",
     "text": [
      "p-value test Breusch Pagan: 0.0\n"
     ]
    }
   ],
   "source": [
    "_, pval, __, f_pval = sms.het_breuschpagan(model_global_ln.resid, variables)\n",
    "print('p-value test Breusch Pagan:', pval)"
   ]
  },
  {
   "cell_type": "markdown",
   "metadata": {},
   "source": [
    "La p-value est ici inférieure à  5 %, **on rejette donc l'hypothèse selon laquelle les variances sont constantes** *(l'hypothèse d’homoscédasticité)*."
   ]
  },
  {
   "cell_type": "markdown",
   "metadata": {},
   "source": [
    "### <span style=\"color:#1c587c\" id=\"resnorm\">Test de la normalité des résidus</span>\n",
    "Nous allons dans un premier temps réaliser un test de Shapiro-Wilk :"
   ]
  },
  {
   "cell_type": "code",
   "execution_count": 95,
   "metadata": {},
   "outputs": [
    {
     "name": "stderr",
     "output_type": "stream",
     "text": [
      "C:\\Users\\OpenClassrooms\\anaconda3\\lib\\site-packages\\scipy\\stats\\morestats.py:1681: UserWarning: p-value may not be accurate for N > 5000.\n",
      "  warnings.warn(\"p-value may not be accurate for N > 5000.\")\n"
     ]
    },
    {
     "data": {
      "text/plain": [
       "ShapiroResult(statistic=0.9815455079078674, pvalue=0.0)"
      ]
     },
     "execution_count": 95,
     "metadata": {},
     "output_type": "execute_result"
    }
   ],
   "source": [
    "shapiro(model_global_ln.resid)"
   ]
  },
  {
   "cell_type": "markdown",
   "metadata": {},
   "source": [
    "On remarque ici que **l'hypothèse de normalité est rejetée au niveau de test 5%**, mais nous avons un warning dû au grand nombre d'individu. Traçons donc la distribution des résidus avec Seaborn pour vérifier :"
   ]
  },
  {
   "cell_type": "code",
   "execution_count": 96,
   "metadata": {},
   "outputs": [
    {
     "data": {
      "image/png": "[encoded data removed]",
      "text/plain": [
       "<Figure size 864x576 with 1 Axes>"
      ]
     },
     "metadata": {},
     "output_type": "display_data"
    }
   ],
   "source": [
    "sns.set_style(\"whitegrid\")\n",
    "fig = plt.figure(figsize=(12,8))\n",
    "ax = sns.distplot(model_global_ln.resid, fit=stats.norm, kde=False)\n",
    "ax.set_title(\"Vérification de la normalité des résidus\", fontsize=22)\n",
    "plt.show()"
   ]
  },
  {
   "cell_type": "markdown",
   "metadata": {},
   "source": [
    "Sur ce graphique, on remarque donc que la **distribution des résidus suit bien une distribution normale**. Affichons le QQPlot pour terminer cette analyse."
   ]
  },
  {
   "cell_type": "code",
   "execution_count": 97,
   "metadata": {},
   "outputs": [
    {
     "data": {
      "image/png": "[encoded data removed]",
      "text/plain": [
       "<Figure size 864x576 with 1 Axes>"
      ]
     },
     "metadata": {},
     "output_type": "display_data"
    }
   ],
   "source": [
    "fig = sm.qqplot(model_global_ln.resid, line=\"45\")\n",
    "fig.set_size_inches(12, 8)\n",
    "fig.suptitle(\"Diagramme quantile-quantile des résidus avec une loi normale\", fontsize=22)\n",
    "plt.show()"
   ]
  },
  {
   "cell_type": "markdown",
   "metadata": {},
   "source": [
    "# <span style=\"color:#ca9928\" id=\"gini_quest\">Réponse à la dernière question sur l'indice de Gini</span>\n",
    "\n",
    "Voici la question posée : **En observant le coefficient de régression associé à l’indice de Gini, peut-on affirmer que le fait de vivre dans un pays plus inégalitaire favorise plus de personnes qu’il n’en défavorise ?**"
   ]
  },
  {
   "cell_type": "markdown",
   "metadata": {},
   "source": [
    "Comme nous l'avons déjà vu, plus l'indice de Gini est élevé, plus la répartition du pays est inégalitaire. De ce fait, une petite proportion de la population détient la plus grosse part des richesses. Les écarts dans les salaires sont très élevés avec des revenus par individus faible. \n",
    "\n",
    "Le coeffiscient de regression de l'indice de Gini, certes faible mais positif, ne nous permet pas d'affirmer que le fait de vivre dans un pays plus inégalitaire favorise plus de personnes qu'il n'en défavorise."
   ]
  },
  {
   "cell_type": "code",
   "execution_count": null,
   "metadata": {},
   "outputs": [],
   "source": []
  }
 ],
 "metadata": {
  "kernelspec": {
   "display_name": "Python 3",
   "language": "python",
   "name": "python3"
  },
  "language_info": {
   "codemirror_mode": {
    "name": "ipython",
    "version": 3
   },
   "file_extension": ".py",
   "mimetype": "text/x-python",
   "name": "python",
   "nbconvert_exporter": "python",
   "pygments_lexer": "ipython3",
   "version": "3.8.3"
  }
 },
 "nbformat": 4,
 "nbformat_minor": 4
}
